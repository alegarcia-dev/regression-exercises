{
 "cells": [
  {
   "cell_type": "code",
   "execution_count": 1,
   "id": "adb8c0a7-4a42-4db9-8b4f-608ccfdefbe2",
   "metadata": {},
   "outputs": [],
   "source": [
    "import numpy as np\n",
    "import pandas as pd\n",
    "import os\n",
    "\n",
    "from get_db_url import get_db_url"
   ]
  },
  {
   "cell_type": "markdown",
   "id": "47809907-10b5-4f58-841c-3da919eadadd",
   "metadata": {},
   "source": [
    "As a Codeup data science graduate, you want to show off your skills to the Zillow data science team in hopes of getting an interview for a position you saw pop up on LinkedIn. You thought it might look impressive to build an end-to-end project in which you use some of their Kaggle data to predict property values using some of their available features; who knows, you might even do some feature engineering to blow them away. Your goal is to predict the values of single unit properties using the obervations from 2017."
   ]
  },
  {
   "cell_type": "markdown",
   "id": "abd11bb6-6210-4f58-9de8-a6fd8769140f",
   "metadata": {},
   "source": [
    "# 1\n",
    "\n",
    "Acquire bedroomcnt, bathroomcnt, calculatedfinishedsquarefeet, taxvaluedollarcnt, yearbuilt, taxamount, and fips from the zillow database for all 'Single Family Residential' properties."
   ]
  },
  {
   "cell_type": "code",
   "execution_count": 2,
   "id": "ad957eea-494c-4f19-9a80-fac9f6afdfbd",
   "metadata": {},
   "outputs": [],
   "source": [
    "# sql = '''\n",
    "# SELECT\n",
    "#     bedroomcnt,\n",
    "#     bathroomcnt,\n",
    "#     calculatedfinishedsquarefeet,\n",
    "#     taxvaluedollarcnt,\n",
    "#     yearbuilt,\n",
    "#     taxamount,\n",
    "#     fips,\n",
    "#     propertylandusedesc\n",
    "# FROM properties_2017\n",
    "# JOIN propertylandusetype\n",
    "#     ON propertylandusetype.propertylandusetypeid = properties_2017.propertylandusetypeid\n",
    "#     AND propertylandusetype.propertylandusedesc = 'Single Family Residential';\n",
    "# '''\n",
    "\n",
    "# properties = pd.read_sql(sql, get_db_url('zillow'))\n",
    "# properties.head(2)\n",
    "\n",
    "properties = pd.read_csv('zillow.csv')"
   ]
  },
  {
   "cell_type": "code",
   "execution_count": 3,
   "id": "e8de3f25-2088-495f-a0e2-ba830eadba3d",
   "metadata": {},
   "outputs": [
    {
     "data": {
      "text/plain": [
       "(2152863, 8)"
      ]
     },
     "execution_count": 3,
     "metadata": {},
     "output_type": "execute_result"
    }
   ],
   "source": [
    "properties.shape"
   ]
  },
  {
   "cell_type": "code",
   "execution_count": 4,
   "id": "7eec4893-e835-4870-85a3-9fd6ec71e16b",
   "metadata": {},
   "outputs": [
    {
     "data": {
      "text/html": [
       "<div>\n",
       "<style scoped>\n",
       "    .dataframe tbody tr th:only-of-type {\n",
       "        vertical-align: middle;\n",
       "    }\n",
       "\n",
       "    .dataframe tbody tr th {\n",
       "        vertical-align: top;\n",
       "    }\n",
       "\n",
       "    .dataframe thead th {\n",
       "        text-align: right;\n",
       "    }\n",
       "</style>\n",
       "<table border=\"1\" class=\"dataframe\">\n",
       "  <thead>\n",
       "    <tr style=\"text-align: right;\">\n",
       "      <th></th>\n",
       "      <th>bedroomcnt</th>\n",
       "      <th>bathroomcnt</th>\n",
       "      <th>calculatedfinishedsquarefeet</th>\n",
       "      <th>taxvaluedollarcnt</th>\n",
       "      <th>yearbuilt</th>\n",
       "      <th>taxamount</th>\n",
       "      <th>fips</th>\n",
       "    </tr>\n",
       "  </thead>\n",
       "  <tbody>\n",
       "    <tr>\n",
       "      <th>count</th>\n",
       "      <td>2.152852e+06</td>\n",
       "      <td>2.152852e+06</td>\n",
       "      <td>2.144379e+06</td>\n",
       "      <td>2.152370e+06</td>\n",
       "      <td>2.143526e+06</td>\n",
       "      <td>2.148421e+06</td>\n",
       "      <td>2.152863e+06</td>\n",
       "    </tr>\n",
       "    <tr>\n",
       "      <th>mean</th>\n",
       "      <td>3.287196e+00</td>\n",
       "      <td>2.230688e+00</td>\n",
       "      <td>1.862855e+03</td>\n",
       "      <td>4.618962e+05</td>\n",
       "      <td>1.960950e+03</td>\n",
       "      <td>5.634866e+03</td>\n",
       "      <td>6.048377e+03</td>\n",
       "    </tr>\n",
       "    <tr>\n",
       "      <th>std</th>\n",
       "      <td>9.547544e-01</td>\n",
       "      <td>9.992796e-01</td>\n",
       "      <td>1.222125e+03</td>\n",
       "      <td>6.996760e+05</td>\n",
       "      <td>2.216220e+01</td>\n",
       "      <td>8.178910e+03</td>\n",
       "      <td>2.043329e+01</td>\n",
       "    </tr>\n",
       "    <tr>\n",
       "      <th>min</th>\n",
       "      <td>0.000000e+00</td>\n",
       "      <td>0.000000e+00</td>\n",
       "      <td>1.000000e+00</td>\n",
       "      <td>1.000000e+00</td>\n",
       "      <td>1.801000e+03</td>\n",
       "      <td>1.850000e+00</td>\n",
       "      <td>6.037000e+03</td>\n",
       "    </tr>\n",
       "    <tr>\n",
       "      <th>25%</th>\n",
       "      <td>3.000000e+00</td>\n",
       "      <td>2.000000e+00</td>\n",
       "      <td>1.257000e+03</td>\n",
       "      <td>1.881702e+05</td>\n",
       "      <td>1.949000e+03</td>\n",
       "      <td>2.534980e+03</td>\n",
       "      <td>6.037000e+03</td>\n",
       "    </tr>\n",
       "    <tr>\n",
       "      <th>50%</th>\n",
       "      <td>3.000000e+00</td>\n",
       "      <td>2.000000e+00</td>\n",
       "      <td>1.623000e+03</td>\n",
       "      <td>3.276710e+05</td>\n",
       "      <td>1.958000e+03</td>\n",
       "      <td>4.108950e+03</td>\n",
       "      <td>6.037000e+03</td>\n",
       "    </tr>\n",
       "    <tr>\n",
       "      <th>75%</th>\n",
       "      <td>4.000000e+00</td>\n",
       "      <td>3.000000e+00</td>\n",
       "      <td>2.208000e+03</td>\n",
       "      <td>5.345270e+05</td>\n",
       "      <td>1.976000e+03</td>\n",
       "      <td>6.414320e+03</td>\n",
       "      <td>6.059000e+03</td>\n",
       "    </tr>\n",
       "    <tr>\n",
       "      <th>max</th>\n",
       "      <td>2.500000e+01</td>\n",
       "      <td>3.200000e+01</td>\n",
       "      <td>9.525760e+05</td>\n",
       "      <td>9.842891e+07</td>\n",
       "      <td>2.016000e+03</td>\n",
       "      <td>1.337756e+06</td>\n",
       "      <td>6.111000e+03</td>\n",
       "    </tr>\n",
       "  </tbody>\n",
       "</table>\n",
       "</div>"
      ],
      "text/plain": [
       "         bedroomcnt   bathroomcnt  calculatedfinishedsquarefeet  \\\n",
       "count  2.152852e+06  2.152852e+06                  2.144379e+06   \n",
       "mean   3.287196e+00  2.230688e+00                  1.862855e+03   \n",
       "std    9.547544e-01  9.992796e-01                  1.222125e+03   \n",
       "min    0.000000e+00  0.000000e+00                  1.000000e+00   \n",
       "25%    3.000000e+00  2.000000e+00                  1.257000e+03   \n",
       "50%    3.000000e+00  2.000000e+00                  1.623000e+03   \n",
       "75%    4.000000e+00  3.000000e+00                  2.208000e+03   \n",
       "max    2.500000e+01  3.200000e+01                  9.525760e+05   \n",
       "\n",
       "       taxvaluedollarcnt     yearbuilt     taxamount          fips  \n",
       "count       2.152370e+06  2.143526e+06  2.148421e+06  2.152863e+06  \n",
       "mean        4.618962e+05  1.960950e+03  5.634866e+03  6.048377e+03  \n",
       "std         6.996760e+05  2.216220e+01  8.178910e+03  2.043329e+01  \n",
       "min         1.000000e+00  1.801000e+03  1.850000e+00  6.037000e+03  \n",
       "25%         1.881702e+05  1.949000e+03  2.534980e+03  6.037000e+03  \n",
       "50%         3.276710e+05  1.958000e+03  4.108950e+03  6.037000e+03  \n",
       "75%         5.345270e+05  1.976000e+03  6.414320e+03  6.059000e+03  \n",
       "max         9.842891e+07  2.016000e+03  1.337756e+06  6.111000e+03  "
      ]
     },
     "execution_count": 4,
     "metadata": {},
     "output_type": "execute_result"
    }
   ],
   "source": [
    "properties.describe()"
   ]
  },
  {
   "cell_type": "code",
   "execution_count": 5,
   "id": "3c0c2e31-40f3-4634-9753-d2784fdab71d",
   "metadata": {},
   "outputs": [
    {
     "name": "stdout",
     "output_type": "stream",
     "text": [
      "<class 'pandas.core.frame.DataFrame'>\n",
      "RangeIndex: 2152863 entries, 0 to 2152862\n",
      "Data columns (total 8 columns):\n",
      " #   Column                        Dtype  \n",
      "---  ------                        -----  \n",
      " 0   bedroomcnt                    float64\n",
      " 1   bathroomcnt                   float64\n",
      " 2   calculatedfinishedsquarefeet  float64\n",
      " 3   taxvaluedollarcnt             float64\n",
      " 4   yearbuilt                     float64\n",
      " 5   taxamount                     float64\n",
      " 6   fips                          float64\n",
      " 7   propertylandusedesc           object \n",
      "dtypes: float64(7), object(1)\n",
      "memory usage: 131.4+ MB\n"
     ]
    }
   ],
   "source": [
    "properties.info()"
   ]
  },
  {
   "cell_type": "code",
   "execution_count": 6,
   "id": "3cf12e22-1d66-4f6c-9867-403ecc3869ce",
   "metadata": {},
   "outputs": [
    {
     "data": {
      "text/plain": [
       "bedroomcnt                        11\n",
       "bathroomcnt                       11\n",
       "calculatedfinishedsquarefeet    8484\n",
       "taxvaluedollarcnt                493\n",
       "yearbuilt                       9337\n",
       "taxamount                       4442\n",
       "fips                               0\n",
       "propertylandusedesc                0\n",
       "dtype: int64"
      ]
     },
     "execution_count": 6,
     "metadata": {},
     "output_type": "execute_result"
    }
   ],
   "source": [
    "properties.isnull().sum()"
   ]
  },
  {
   "cell_type": "code",
   "execution_count": 7,
   "id": "d5c9215a-2f01-4a09-ad4b-44979c22fe0b",
   "metadata": {},
   "outputs": [],
   "source": [
    "# Let's cache this because that query took a while to run\n",
    "# properties.to_csv('zillow.csv', index = False)"
   ]
  },
  {
   "cell_type": "markdown",
   "id": "153be5eb-0b68-4028-a03e-8213d250206d",
   "metadata": {},
   "source": [
    "# 2\n",
    "\n",
    "Using your acquired Zillow data, walk through the summarization and cleaning steps in your wrangle.ipynb file like we did above. You may handle the missing values however you feel is appropriate and meaninful; remember to document your process and decisions using markdown and code commenting where helpful."
   ]
  },
  {
   "cell_type": "code",
   "execution_count": 8,
   "id": "11a9dfdf-6fc1-4f1e-bf28-f7638a4cd24b",
   "metadata": {},
   "outputs": [
    {
     "data": {
      "text/plain": [
       "bedroomcnt                      0.000005\n",
       "bathroomcnt                     0.000005\n",
       "calculatedfinishedsquarefeet    0.003941\n",
       "taxvaluedollarcnt               0.000229\n",
       "yearbuilt                       0.004337\n",
       "taxamount                       0.002063\n",
       "fips                            0.000000\n",
       "propertylandusedesc             0.000000\n",
       "dtype: float64"
      ]
     },
     "execution_count": 8,
     "metadata": {},
     "output_type": "execute_result"
    }
   ],
   "source": [
    "# We have several columns with missing values. Let's see the proportions of these missing values per columns.\n",
    "properties.isnull().mean()"
   ]
  },
  {
   "cell_type": "code",
   "execution_count": 9,
   "id": "b0f90167-f1a1-4e4f-a29b-1e038f5c4aa8",
   "metadata": {},
   "outputs": [
    {
     "data": {
      "text/plain": [
       "(12628, 0.005865677472277613)"
      ]
     },
     "execution_count": 9,
     "metadata": {},
     "output_type": "execute_result"
    }
   ],
   "source": [
    "# The missing values make up only a small percentage of the whole in each column. Let's how many rows have missing values.\n",
    "(properties.isnull().sum(axis = 1) != 0).sum(), (properties.isnull().sum(axis = 1) != 0).mean()"
   ]
  },
  {
   "cell_type": "markdown",
   "id": "85d48ef8-ffd2-478d-a366-5e0717df00bc",
   "metadata": {},
   "source": [
    "Roughly half a percent of the rows comprises of missing values. Let's try to get a little more insight here."
   ]
  },
  {
   "cell_type": "code",
   "execution_count": 10,
   "id": "3bcb497a-d289-4d7f-a04a-86f0b976f995",
   "metadata": {},
   "outputs": [
    {
     "data": {
      "text/plain": [
       "(8043, 0.0037359553301812517)"
      ]
     },
     "execution_count": 10,
     "metadata": {},
     "output_type": "execute_result"
    }
   ],
   "source": [
    "# How many rows have 2 or more missing values?\n",
    "(properties.isnull().sum(axis = 1) >= 2).sum(), (properties.isnull().sum(axis = 1) >= 2).mean()"
   ]
  },
  {
   "cell_type": "code",
   "execution_count": 11,
   "id": "2da86afc-6203-4627-ac12-450a2f7a64a8",
   "metadata": {},
   "outputs": [
    {
     "data": {
      "text/plain": [
       "bedroomcnt                         0\n",
       "bathroomcnt                        0\n",
       "calculatedfinishedsquarefeet     560\n",
       "taxvaluedollarcnt                 18\n",
       "yearbuilt                       1439\n",
       "taxamount                       2568\n",
       "fips                               0\n",
       "propertylandusedesc                0\n",
       "dtype: int64"
      ]
     },
     "execution_count": 11,
     "metadata": {},
     "output_type": "execute_result"
    }
   ],
   "source": [
    "# What's our distribution of missing values when we look at rows with 1 missing value or less?\n",
    "rows_with_one_or_less_missing_values = properties.isnull().sum(axis = 1) < 2\n",
    "properties[rows_with_one_or_less_missing_values].isnull().sum()"
   ]
  },
  {
   "cell_type": "markdown",
   "id": "b6ea6f5e-bf21-49c3-98e6-933667e4cbb7",
   "metadata": {},
   "source": [
    "We will need square footage for the first iteration of our model so we will remove all rows missing that value as well as any rows missing more than one value. We'll also remove rows missing taxvaluedollarcnt since this is our target variable. We will impute everything else."
   ]
  },
  {
   "cell_type": "code",
   "execution_count": 12,
   "id": "2c7f8e06-c8c7-495a-a874-3ebe0f2335c4",
   "metadata": {},
   "outputs": [],
   "source": [
    "# Remove rows with two or more missing values.\n",
    "properties = properties[rows_with_one_or_less_missing_values]\n",
    "\n",
    "# Remove rows missing square footage\n",
    "rows_not_missing_square_feet = properties.calculatedfinishedsquarefeet.notnull()\n",
    "properties = properties[rows_not_missing_square_feet]\n",
    "\n",
    "# Remove rows missing taxvaluedollarcnt\n",
    "rows_not_missing_taxvalue = properties.taxvaluedollarcnt.notnull()\n",
    "properties = properties[rows_not_missing_taxvalue]"
   ]
  },
  {
   "cell_type": "code",
   "execution_count": 13,
   "id": "808c5086-ea67-428d-b147-47791c852df5",
   "metadata": {},
   "outputs": [
    {
     "data": {
      "text/plain": [
       "bedroomcnt                         0\n",
       "bathroomcnt                        0\n",
       "calculatedfinishedsquarefeet       0\n",
       "taxvaluedollarcnt                  0\n",
       "yearbuilt                       1439\n",
       "taxamount                       2568\n",
       "fips                               0\n",
       "propertylandusedesc                0\n",
       "dtype: int64"
      ]
     },
     "execution_count": 13,
     "metadata": {},
     "output_type": "execute_result"
    }
   ],
   "source": [
    "properties.isnull().sum()"
   ]
  },
  {
   "cell_type": "code",
   "execution_count": 14,
   "id": "fcb9ed4c-503a-45ec-81e3-be23dc044bc7",
   "metadata": {},
   "outputs": [
    {
     "data": {
      "text/plain": [
       "1955.0"
      ]
     },
     "execution_count": 14,
     "metadata": {},
     "output_type": "execute_result"
    }
   ],
   "source": [
    "# We'll fill in yearbuilt with the mode.\n",
    "properties.yearbuilt.mode()[0]"
   ]
  },
  {
   "cell_type": "code",
   "execution_count": 15,
   "id": "7ec89a76-70fc-4b2a-9cfc-696189dcb201",
   "metadata": {},
   "outputs": [],
   "source": [
    "properties.yearbuilt.fillna(properties.yearbuilt.mode()[0], inplace = True)\n",
    "\n",
    "# Let's also cast the column to int.\n",
    "properties.yearbuilt = properties.yearbuilt.astype('int')"
   ]
  },
  {
   "cell_type": "code",
   "execution_count": 16,
   "id": "25562f04-a2c2-48b9-b6d2-0efa1ae1414f",
   "metadata": {},
   "outputs": [
    {
     "data": {
      "text/plain": [
       "bedroomcnt                         0\n",
       "bathroomcnt                        0\n",
       "calculatedfinishedsquarefeet       0\n",
       "taxvaluedollarcnt                  0\n",
       "yearbuilt                          0\n",
       "taxamount                       2568\n",
       "fips                               0\n",
       "propertylandusedesc                0\n",
       "dtype: int64"
      ]
     },
     "execution_count": 16,
     "metadata": {},
     "output_type": "execute_result"
    }
   ],
   "source": [
    "properties.isnull().sum()"
   ]
  },
  {
   "cell_type": "code",
   "execution_count": 17,
   "id": "b5c8cbfd-02fd-47be-a2c6-c9ba0150032b",
   "metadata": {},
   "outputs": [
    {
     "name": "stdout",
     "output_type": "stream",
     "text": [
      "<class 'pandas.core.frame.DataFrame'>\n",
      "Int64Index: 2144242 entries, 4 to 2152862\n",
      "Data columns (total 8 columns):\n",
      " #   Column                        Dtype  \n",
      "---  ------                        -----  \n",
      " 0   bedroomcnt                    float64\n",
      " 1   bathroomcnt                   float64\n",
      " 2   calculatedfinishedsquarefeet  float64\n",
      " 3   taxvaluedollarcnt             float64\n",
      " 4   yearbuilt                     int64  \n",
      " 5   taxamount                     float64\n",
      " 6   fips                          float64\n",
      " 7   propertylandusedesc           object \n",
      "dtypes: float64(6), int64(1), object(1)\n",
      "memory usage: 147.2+ MB\n"
     ]
    }
   ],
   "source": [
    "properties.info()"
   ]
  },
  {
   "cell_type": "code",
   "execution_count": 18,
   "id": "242cc12d-f147-41d0-8462-26abfc6f1ebf",
   "metadata": {},
   "outputs": [
    {
     "data": {
      "text/plain": [
       "5616.12711389353"
      ]
     },
     "execution_count": 18,
     "metadata": {},
     "output_type": "execute_result"
    }
   ],
   "source": [
    "# Finally let's fill in taxamount with the mean.\n",
    "properties.taxamount.mean()"
   ]
  },
  {
   "cell_type": "code",
   "execution_count": 19,
   "id": "cb594936-3c8f-42aa-b292-94d7b192641a",
   "metadata": {},
   "outputs": [],
   "source": [
    "properties.taxamount.fillna(properties.taxamount.mean(), inplace = True)"
   ]
  },
  {
   "cell_type": "code",
   "execution_count": 20,
   "id": "e2159b76-cdcb-426b-953a-282a75775eeb",
   "metadata": {},
   "outputs": [
    {
     "data": {
      "text/plain": [
       "bedroomcnt                      0\n",
       "bathroomcnt                     0\n",
       "calculatedfinishedsquarefeet    0\n",
       "taxvaluedollarcnt               0\n",
       "yearbuilt                       0\n",
       "taxamount                       0\n",
       "fips                            0\n",
       "propertylandusedesc             0\n",
       "dtype: int64"
      ]
     },
     "execution_count": 20,
     "metadata": {},
     "output_type": "execute_result"
    }
   ],
   "source": [
    "properties.isnull().sum()"
   ]
  },
  {
   "cell_type": "code",
   "execution_count": 21,
   "id": "f13c277a-4b0b-4f33-8cc3-8263d5075f67",
   "metadata": {},
   "outputs": [
    {
     "data": {
      "text/plain": [
       "(2144242, 8)"
      ]
     },
     "execution_count": 21,
     "metadata": {},
     "output_type": "execute_result"
    }
   ],
   "source": [
    "properties.shape"
   ]
  },
  {
   "cell_type": "markdown",
   "id": "275a0fa6-d10b-4d45-8f29-2b380c4a87dd",
   "metadata": {},
   "source": [
    "All done!"
   ]
  },
  {
   "cell_type": "markdown",
   "id": "9b982682-7449-43bd-9ce1-ab15ddb2cabf",
   "metadata": {},
   "source": [
    "# 3\n",
    "\n",
    "Store all of the necessary functions to automate your process from acquiring the data to returning a cleaned dataframe witn no missing values in your wrangle.py file. Name your final function wrangle_zillow."
   ]
  },
  {
   "cell_type": "code",
   "execution_count": 22,
   "id": "12912377-4cd7-4d69-bac7-b29b9baeafa5",
   "metadata": {},
   "outputs": [],
   "source": [
    "# These are the acquisition functions\n",
    "\n",
    "def get_zillow_data(use_cache: bool = True) -> pd.core.frame.DataFrame:\n",
    "    '''\n",
    "        Return a dataframe containing data from the zillow properties dataset.\n",
    "\n",
    "        If a zillow.csv file containing the data does not already\n",
    "        exist the data will be cached in that file inside the current\n",
    "        working directory. Otherwise, the data will be read from the\n",
    "        .csv file.\n",
    "\n",
    "        Parameters\n",
    "        ----------\n",
    "        use_cache: bool, default True\n",
    "            If True the dataset will be retrieved from a csv file if one\n",
    "            exists, otherwise, it will be retrieved from the MySQL database. \n",
    "            If False the dataset will be retrieved from the MySQL database\n",
    "            even if the csv file exists.\n",
    "\n",
    "        Returns\n",
    "        -------\n",
    "        DataFrame: A Pandas DataFrame containing the data from the zillow\n",
    "            dataset is returned.\n",
    "    '''\n",
    "\n",
    "    # If the file is cached, read from the .csv file\n",
    "    if os.path.exists('zillow.csv') and use_cache:\n",
    "        return pd.read_csv('zillow.csv')\n",
    "    \n",
    "    # Otherwise read from the mysql database\n",
    "    else:\n",
    "        df = pd.read_sql(_get_zillow_sql(), get_db_url('zillow'))\n",
    "        df.to_csv('zillow.csv', index = False)\n",
    "        return df\n",
    "    \n",
    "def _get_zillow_sql() -> str:\n",
    "    '''\n",
    "        Returns the SQL code required to retrieve the zillow dataset\n",
    "        from the MySQL database.\n",
    "    '''\n",
    "\n",
    "    return '''\n",
    "        SELECT\n",
    "            bedroomcnt,\n",
    "            bathroomcnt,\n",
    "            calculatedfinishedsquarefeet,\n",
    "            taxvaluedollarcnt,\n",
    "            yearbuilt,\n",
    "            taxamount,\n",
    "            fips,\n",
    "            propertylandusedesc\n",
    "        FROM properties_2017\n",
    "        JOIN propertylandusetype\n",
    "            ON propertylandusetype.propertylandusetypeid = properties_2017.propertylandusetypeid\n",
    "            AND propertylandusetype.propertylandusedesc = 'Single Family Residential';\n",
    "    '''"
   ]
  },
  {
   "cell_type": "code",
   "execution_count": 27,
   "id": "ef9573a7-767b-48cd-b044-65e312e86d96",
   "metadata": {},
   "outputs": [],
   "source": [
    "# This is the prepare function\n",
    "\n",
    "def prepare_zillow_data(df: pd.core.frame.DataFrame) -> pd.core.frame.DataFrame:\n",
    "    '''\n",
    "        Returns a prepared zillow dataset with all missing values handled.\n",
    "        \n",
    "        Parameters\n",
    "        ----------\n",
    "        df: DataFrame\n",
    "            A pandas dataframe containing the unprepared zillow dataset.\n",
    "        \n",
    "        Returns\n",
    "        -------\n",
    "        DataFrame: A pandas dataframe containing the prepared zillow dataset.\n",
    "    '''\n",
    "    \n",
    "    # Remove rows with two or more missing values.\n",
    "    rows_with_one_or_less_missing_values = df.isnull().sum(axis = 1) < 2\n",
    "    df = df[rows_with_one_or_less_missing_values]\n",
    "\n",
    "    # Remove rows missing square footage\n",
    "    rows_not_missing_square_feet = df.calculatedfinishedsquarefeet.notnull()\n",
    "    df = df[rows_not_missing_square_feet]\n",
    "\n",
    "    # Remove rows missing taxvaluedollarcnt\n",
    "    rows_not_missing_taxvalue = df.taxvaluedollarcnt.notnull()\n",
    "    df = df[rows_not_missing_taxvalue]\n",
    "    \n",
    "    # Fill in yearbuilt column with the mode and cast to int\n",
    "    df.yearbuilt.fillna(df.yearbuilt.mode()[0], inplace = True)\n",
    "    df.yearbuilt = df.yearbuilt.astype('int')\n",
    "    \n",
    "    # Fill in the taxamount column with the mean\n",
    "    df.taxamount.fillna(df.taxamount.mean(), inplace = True)\n",
    "    \n",
    "    return df"
   ]
  },
  {
   "cell_type": "code",
   "execution_count": 28,
   "id": "e3998f39-7580-403c-a048-66571f3fc6c0",
   "metadata": {},
   "outputs": [],
   "source": [
    "# Now let's bring it all together\n",
    "\n",
    "def wrangle_zillow() -> pd.core.frame.DataFrame:\n",
    "    '''\n",
    "        Returns the acquired and prepared zillow dataset.\n",
    "        \n",
    "        Returns\n",
    "        -------\n",
    "        DataFrame: A pandas dataframe containing the prepared zillow dataset.\n",
    "    '''\n",
    "    \n",
    "    return prepare_zillow_data(get_zillow_data())"
   ]
  },
  {
   "cell_type": "code",
   "execution_count": 29,
   "id": "e481b273-310d-4960-bcee-0ebe8c914692",
   "metadata": {},
   "outputs": [],
   "source": [
    "# Let's test it\n",
    "df = wrangle_zillow()"
   ]
  },
  {
   "cell_type": "code",
   "execution_count": 32,
   "id": "33893d75-89ef-4040-912f-a51f90f96442",
   "metadata": {},
   "outputs": [
    {
     "name": "stdout",
     "output_type": "stream",
     "text": [
      "<class 'pandas.core.frame.DataFrame'>\n",
      "Int64Index: 2144242 entries, 4 to 2152862\n",
      "Data columns (total 8 columns):\n",
      " #   Column                        Non-Null Count    Dtype  \n",
      "---  ------                        --------------    -----  \n",
      " 0   bedroomcnt                    2144242 non-null  float64\n",
      " 1   bathroomcnt                   2144242 non-null  float64\n",
      " 2   calculatedfinishedsquarefeet  2144242 non-null  float64\n",
      " 3   taxvaluedollarcnt             2144242 non-null  float64\n",
      " 4   yearbuilt                     2144242 non-null  int64  \n",
      " 5   taxamount                     2144242 non-null  float64\n",
      " 6   fips                          2144242 non-null  float64\n",
      " 7   propertylandusedesc           2144242 non-null  object \n",
      "dtypes: float64(6), int64(1), object(1)\n",
      "memory usage: 147.2+ MB\n"
     ]
    }
   ],
   "source": [
    "df.info(show_counts = True)"
   ]
  }
 ],
 "metadata": {
  "kernelspec": {
   "display_name": "Python 3 (ipykernel)",
   "language": "python",
   "name": "python3"
  },
  "language_info": {
   "codemirror_mode": {
    "name": "ipython",
    "version": 3
   },
   "file_extension": ".py",
   "mimetype": "text/x-python",
   "name": "python",
   "nbconvert_exporter": "python",
   "pygments_lexer": "ipython3",
   "version": "3.9.7"
  }
 },
 "nbformat": 4,
 "nbformat_minor": 5
}
