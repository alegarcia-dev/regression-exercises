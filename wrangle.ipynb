{
 "cells": [
  {
   "cell_type": "code",
   "execution_count": 1,
   "id": "adb8c0a7-4a42-4db9-8b4f-608ccfdefbe2",
   "metadata": {},
   "outputs": [],
   "source": [
    "import numpy as np\n",
    "import pandas as pd\n",
    "import os\n",
    "\n",
    "from get_db_url import get_db_url"
   ]
  },
  {
   "cell_type": "markdown",
   "id": "47809907-10b5-4f58-841c-3da919eadadd",
   "metadata": {},
   "source": [
    "As a Codeup data science graduate, you want to show off your skills to the Zillow data science team in hopes of getting an interview for a position you saw pop up on LinkedIn. You thought it might look impressive to build an end-to-end project in which you use some of their Kaggle data to predict property values using some of their available features; who knows, you might even do some feature engineering to blow them away. Your goal is to predict the values of single unit properties using the obervations from 2017."
   ]
  },
  {
   "cell_type": "markdown",
   "id": "abd11bb6-6210-4f58-9de8-a6fd8769140f",
   "metadata": {},
   "source": [
    "# 1\n",
    "\n",
    "Acquire bedroomcnt, bathroomcnt, calculatedfinishedsquarefeet, taxvaluedollarcnt, yearbuilt, taxamount, and fips from the zillow database for all 'Single Family Residential' properties."
   ]
  },
  {
   "cell_type": "code",
   "execution_count": 2,
   "id": "ad957eea-494c-4f19-9a80-fac9f6afdfbd",
   "metadata": {},
   "outputs": [],
   "source": [
    "# sql = '''\n",
    "# SELECT\n",
    "#     bedroomcnt,\n",
    "#     bathroomcnt,\n",
    "#     calculatedfinishedsquarefeet,\n",
    "#     taxvaluedollarcnt,\n",
    "#     yearbuilt,\n",
    "#     taxamount,\n",
    "#     fips,\n",
    "#     propertylandusedesc\n",
    "# FROM properties_2017\n",
    "# JOIN propertylandusetype\n",
    "#     ON propertylandusetype.propertylandusetypeid = properties_2017.propertylandusetypeid\n",
    "#     AND propertylandusetype.propertylandusedesc = 'Single Family Residential';\n",
    "# '''\n",
    "\n",
    "# properties = pd.read_sql(sql, get_db_url('zillow'))\n",
    "# properties.head(2)\n",
    "\n",
    "properties = pd.read_csv('zillow.csv')"
   ]
  },
  {
   "cell_type": "code",
   "execution_count": 3,
   "id": "e8de3f25-2088-495f-a0e2-ba830eadba3d",
   "metadata": {},
   "outputs": [
    {
     "data": {
      "text/plain": [
       "(2152863, 8)"
      ]
     },
     "execution_count": 3,
     "metadata": {},
     "output_type": "execute_result"
    }
   ],
   "source": [
    "properties.shape"
   ]
  },
  {
   "cell_type": "code",
   "execution_count": 4,
   "id": "7eec4893-e835-4870-85a3-9fd6ec71e16b",
   "metadata": {},
   "outputs": [
    {
     "data": {
      "text/html": [
       "<div>\n",
       "<style scoped>\n",
       "    .dataframe tbody tr th:only-of-type {\n",
       "        vertical-align: middle;\n",
       "    }\n",
       "\n",
       "    .dataframe tbody tr th {\n",
       "        vertical-align: top;\n",
       "    }\n",
       "\n",
       "    .dataframe thead th {\n",
       "        text-align: right;\n",
       "    }\n",
       "</style>\n",
       "<table border=\"1\" class=\"dataframe\">\n",
       "  <thead>\n",
       "    <tr style=\"text-align: right;\">\n",
       "      <th></th>\n",
       "      <th>count</th>\n",
       "      <th>mean</th>\n",
       "      <th>std</th>\n",
       "      <th>min</th>\n",
       "      <th>25%</th>\n",
       "      <th>50%</th>\n",
       "      <th>75%</th>\n",
       "      <th>max</th>\n",
       "    </tr>\n",
       "  </thead>\n",
       "  <tbody>\n",
       "    <tr>\n",
       "      <th>bedroomcnt</th>\n",
       "      <td>2152852.0</td>\n",
       "      <td>3.287196</td>\n",
       "      <td>0.954754</td>\n",
       "      <td>0.00</td>\n",
       "      <td>3.00</td>\n",
       "      <td>3.00</td>\n",
       "      <td>4.00</td>\n",
       "      <td>25.00</td>\n",
       "    </tr>\n",
       "    <tr>\n",
       "      <th>bathroomcnt</th>\n",
       "      <td>2152852.0</td>\n",
       "      <td>2.230688</td>\n",
       "      <td>0.999280</td>\n",
       "      <td>0.00</td>\n",
       "      <td>2.00</td>\n",
       "      <td>2.00</td>\n",
       "      <td>3.00</td>\n",
       "      <td>32.00</td>\n",
       "    </tr>\n",
       "    <tr>\n",
       "      <th>calculatedfinishedsquarefeet</th>\n",
       "      <td>2144379.0</td>\n",
       "      <td>1862.855178</td>\n",
       "      <td>1222.125124</td>\n",
       "      <td>1.00</td>\n",
       "      <td>1257.00</td>\n",
       "      <td>1623.00</td>\n",
       "      <td>2208.00</td>\n",
       "      <td>952576.00</td>\n",
       "    </tr>\n",
       "    <tr>\n",
       "      <th>taxvaluedollarcnt</th>\n",
       "      <td>2152370.0</td>\n",
       "      <td>461896.237963</td>\n",
       "      <td>699676.049600</td>\n",
       "      <td>1.00</td>\n",
       "      <td>188170.25</td>\n",
       "      <td>327671.00</td>\n",
       "      <td>534527.00</td>\n",
       "      <td>98428909.00</td>\n",
       "    </tr>\n",
       "    <tr>\n",
       "      <th>yearbuilt</th>\n",
       "      <td>2143526.0</td>\n",
       "      <td>1960.949681</td>\n",
       "      <td>22.162196</td>\n",
       "      <td>1801.00</td>\n",
       "      <td>1949.00</td>\n",
       "      <td>1958.00</td>\n",
       "      <td>1976.00</td>\n",
       "      <td>2016.00</td>\n",
       "    </tr>\n",
       "    <tr>\n",
       "      <th>taxamount</th>\n",
       "      <td>2148421.0</td>\n",
       "      <td>5634.865978</td>\n",
       "      <td>8178.910249</td>\n",
       "      <td>1.85</td>\n",
       "      <td>2534.98</td>\n",
       "      <td>4108.95</td>\n",
       "      <td>6414.32</td>\n",
       "      <td>1337755.86</td>\n",
       "    </tr>\n",
       "    <tr>\n",
       "      <th>fips</th>\n",
       "      <td>2152863.0</td>\n",
       "      <td>6048.377335</td>\n",
       "      <td>20.433292</td>\n",
       "      <td>6037.00</td>\n",
       "      <td>6037.00</td>\n",
       "      <td>6037.00</td>\n",
       "      <td>6059.00</td>\n",
       "      <td>6111.00</td>\n",
       "    </tr>\n",
       "  </tbody>\n",
       "</table>\n",
       "</div>"
      ],
      "text/plain": [
       "                                  count           mean            std  \\\n",
       "bedroomcnt                    2152852.0       3.287196       0.954754   \n",
       "bathroomcnt                   2152852.0       2.230688       0.999280   \n",
       "calculatedfinishedsquarefeet  2144379.0    1862.855178    1222.125124   \n",
       "taxvaluedollarcnt             2152370.0  461896.237963  699676.049600   \n",
       "yearbuilt                     2143526.0    1960.949681      22.162196   \n",
       "taxamount                     2148421.0    5634.865978    8178.910249   \n",
       "fips                          2152863.0    6048.377335      20.433292   \n",
       "\n",
       "                                  min        25%        50%        75%  \\\n",
       "bedroomcnt                       0.00       3.00       3.00       4.00   \n",
       "bathroomcnt                      0.00       2.00       2.00       3.00   \n",
       "calculatedfinishedsquarefeet     1.00    1257.00    1623.00    2208.00   \n",
       "taxvaluedollarcnt                1.00  188170.25  327671.00  534527.00   \n",
       "yearbuilt                     1801.00    1949.00    1958.00    1976.00   \n",
       "taxamount                        1.85    2534.98    4108.95    6414.32   \n",
       "fips                          6037.00    6037.00    6037.00    6059.00   \n",
       "\n",
       "                                      max  \n",
       "bedroomcnt                          25.00  \n",
       "bathroomcnt                         32.00  \n",
       "calculatedfinishedsquarefeet    952576.00  \n",
       "taxvaluedollarcnt             98428909.00  \n",
       "yearbuilt                         2016.00  \n",
       "taxamount                      1337755.86  \n",
       "fips                              6111.00  "
      ]
     },
     "execution_count": 4,
     "metadata": {},
     "output_type": "execute_result"
    }
   ],
   "source": [
    "properties.describe().T"
   ]
  },
  {
   "cell_type": "code",
   "execution_count": 5,
   "id": "3c0c2e31-40f3-4634-9753-d2784fdab71d",
   "metadata": {},
   "outputs": [
    {
     "name": "stdout",
     "output_type": "stream",
     "text": [
      "<class 'pandas.core.frame.DataFrame'>\n",
      "RangeIndex: 2152863 entries, 0 to 2152862\n",
      "Data columns (total 8 columns):\n",
      " #   Column                        Dtype  \n",
      "---  ------                        -----  \n",
      " 0   bedroomcnt                    float64\n",
      " 1   bathroomcnt                   float64\n",
      " 2   calculatedfinishedsquarefeet  float64\n",
      " 3   taxvaluedollarcnt             float64\n",
      " 4   yearbuilt                     float64\n",
      " 5   taxamount                     float64\n",
      " 6   fips                          float64\n",
      " 7   propertylandusedesc           object \n",
      "dtypes: float64(7), object(1)\n",
      "memory usage: 131.4+ MB\n"
     ]
    }
   ],
   "source": [
    "properties.info()"
   ]
  },
  {
   "cell_type": "code",
   "execution_count": 6,
   "id": "3cf12e22-1d66-4f6c-9867-403ecc3869ce",
   "metadata": {},
   "outputs": [
    {
     "data": {
      "text/plain": [
       "bedroomcnt                        11\n",
       "bathroomcnt                       11\n",
       "calculatedfinishedsquarefeet    8484\n",
       "taxvaluedollarcnt                493\n",
       "yearbuilt                       9337\n",
       "taxamount                       4442\n",
       "fips                               0\n",
       "propertylandusedesc                0\n",
       "dtype: int64"
      ]
     },
     "execution_count": 6,
     "metadata": {},
     "output_type": "execute_result"
    }
   ],
   "source": [
    "properties.isnull().sum()"
   ]
  },
  {
   "cell_type": "code",
   "execution_count": 7,
   "id": "d5c9215a-2f01-4a09-ad4b-44979c22fe0b",
   "metadata": {},
   "outputs": [],
   "source": [
    "# Let's cache this because that query took a while to run\n",
    "# properties.to_csv('zillow.csv', index = False)"
   ]
  },
  {
   "cell_type": "markdown",
   "id": "153be5eb-0b68-4028-a03e-8213d250206d",
   "metadata": {},
   "source": [
    "# 2\n",
    "\n",
    "Using your acquired Zillow data, walk through the summarization and cleaning steps in your wrangle.ipynb file like we did above. You may handle the missing values however you feel is appropriate and meaninful; remember to document your process and decisions using markdown and code commenting where helpful."
   ]
  },
  {
   "cell_type": "code",
   "execution_count": 8,
   "id": "11a9dfdf-6fc1-4f1e-bf28-f7638a4cd24b",
   "metadata": {},
   "outputs": [
    {
     "data": {
      "text/plain": [
       "bedroomcnt                      0.000005\n",
       "bathroomcnt                     0.000005\n",
       "calculatedfinishedsquarefeet    0.003941\n",
       "taxvaluedollarcnt               0.000229\n",
       "yearbuilt                       0.004337\n",
       "taxamount                       0.002063\n",
       "fips                            0.000000\n",
       "propertylandusedesc             0.000000\n",
       "dtype: float64"
      ]
     },
     "execution_count": 8,
     "metadata": {},
     "output_type": "execute_result"
    }
   ],
   "source": [
    "# We have several columns with missing values. Let's see the proportions of these missing values per columns.\n",
    "properties.isnull().mean()"
   ]
  },
  {
   "cell_type": "code",
   "execution_count": 9,
   "id": "b0f90167-f1a1-4e4f-a29b-1e038f5c4aa8",
   "metadata": {},
   "outputs": [
    {
     "data": {
      "text/plain": [
       "(12628, 0.005865677472277613)"
      ]
     },
     "execution_count": 9,
     "metadata": {},
     "output_type": "execute_result"
    }
   ],
   "source": [
    "# The missing values make up only a small percentage of the whole in each column. Let's how many rows have missing values.\n",
    "(properties.isnull().sum(axis = 1) != 0).sum(), (properties.isnull().sum(axis = 1) != 0).mean()"
   ]
  },
  {
   "cell_type": "markdown",
   "id": "85d48ef8-ffd2-478d-a366-5e0717df00bc",
   "metadata": {},
   "source": [
    "Roughly half a percent of the rows comprises of missing values. Let's try to get a little more insight here."
   ]
  },
  {
   "cell_type": "code",
   "execution_count": 10,
   "id": "3bcb497a-d289-4d7f-a04a-86f0b976f995",
   "metadata": {},
   "outputs": [
    {
     "data": {
      "text/plain": [
       "(8043, 0.0037359553301812517)"
      ]
     },
     "execution_count": 10,
     "metadata": {},
     "output_type": "execute_result"
    }
   ],
   "source": [
    "# How many rows have 2 or more missing values?\n",
    "(properties.isnull().sum(axis = 1) >= 2).sum(), (properties.isnull().sum(axis = 1) >= 2).mean()"
   ]
  },
  {
   "cell_type": "code",
   "execution_count": 11,
   "id": "2da86afc-6203-4627-ac12-450a2f7a64a8",
   "metadata": {},
   "outputs": [
    {
     "data": {
      "text/plain": [
       "bedroomcnt                         0\n",
       "bathroomcnt                        0\n",
       "calculatedfinishedsquarefeet     560\n",
       "taxvaluedollarcnt                 18\n",
       "yearbuilt                       1439\n",
       "taxamount                       2568\n",
       "fips                               0\n",
       "propertylandusedesc                0\n",
       "dtype: int64"
      ]
     },
     "execution_count": 11,
     "metadata": {},
     "output_type": "execute_result"
    }
   ],
   "source": [
    "# What's our distribution of missing values when we look at rows with 1 missing value or less?\n",
    "rows_with_one_or_less_missing_values = properties.isnull().sum(axis = 1) < 2\n",
    "properties[rows_with_one_or_less_missing_values].isnull().sum()"
   ]
  },
  {
   "cell_type": "markdown",
   "id": "b6ea6f5e-bf21-49c3-98e6-933667e4cbb7",
   "metadata": {},
   "source": [
    "We will need square footage for the first iteration of our model so we will remove all rows missing that value as well as any rows missing more than one value. We'll also remove rows missing taxvaluedollarcnt since this is our target variable. We will impute everything else."
   ]
  },
  {
   "cell_type": "code",
   "execution_count": 12,
   "id": "2c7f8e06-c8c7-495a-a874-3ebe0f2335c4",
   "metadata": {},
   "outputs": [],
   "source": [
    "# Remove rows with two or more missing values.\n",
    "properties = properties[rows_with_one_or_less_missing_values]\n",
    "\n",
    "# Remove rows missing square footage\n",
    "rows_not_missing_square_feet = properties.calculatedfinishedsquarefeet.notnull()\n",
    "properties = properties[rows_not_missing_square_feet]\n",
    "\n",
    "# Remove rows missing taxvaluedollarcnt\n",
    "rows_not_missing_taxvalue = properties.taxvaluedollarcnt.notnull()\n",
    "properties = properties[rows_not_missing_taxvalue]"
   ]
  },
  {
   "cell_type": "code",
   "execution_count": 13,
   "id": "808c5086-ea67-428d-b147-47791c852df5",
   "metadata": {},
   "outputs": [
    {
     "data": {
      "text/plain": [
       "bedroomcnt                         0\n",
       "bathroomcnt                        0\n",
       "calculatedfinishedsquarefeet       0\n",
       "taxvaluedollarcnt                  0\n",
       "yearbuilt                       1439\n",
       "taxamount                       2568\n",
       "fips                               0\n",
       "propertylandusedesc                0\n",
       "dtype: int64"
      ]
     },
     "execution_count": 13,
     "metadata": {},
     "output_type": "execute_result"
    }
   ],
   "source": [
    "properties.isnull().sum()"
   ]
  },
  {
   "cell_type": "code",
   "execution_count": 14,
   "id": "fcb9ed4c-503a-45ec-81e3-be23dc044bc7",
   "metadata": {},
   "outputs": [
    {
     "data": {
      "text/plain": [
       "1955.0"
      ]
     },
     "execution_count": 14,
     "metadata": {},
     "output_type": "execute_result"
    }
   ],
   "source": [
    "# We'll fill in yearbuilt with the mode.\n",
    "properties.yearbuilt.mode()[0]"
   ]
  },
  {
   "cell_type": "code",
   "execution_count": 15,
   "id": "7ec89a76-70fc-4b2a-9cfc-696189dcb201",
   "metadata": {},
   "outputs": [],
   "source": [
    "properties.yearbuilt.fillna(properties.yearbuilt.mode()[0], inplace = True)\n",
    "\n",
    "# Let's also cast the column to int.\n",
    "properties.yearbuilt = properties.yearbuilt.astype('int')"
   ]
  },
  {
   "cell_type": "code",
   "execution_count": 16,
   "id": "25562f04-a2c2-48b9-b6d2-0efa1ae1414f",
   "metadata": {},
   "outputs": [
    {
     "data": {
      "text/plain": [
       "bedroomcnt                         0\n",
       "bathroomcnt                        0\n",
       "calculatedfinishedsquarefeet       0\n",
       "taxvaluedollarcnt                  0\n",
       "yearbuilt                          0\n",
       "taxamount                       2568\n",
       "fips                               0\n",
       "propertylandusedesc                0\n",
       "dtype: int64"
      ]
     },
     "execution_count": 16,
     "metadata": {},
     "output_type": "execute_result"
    }
   ],
   "source": [
    "properties.isnull().sum()"
   ]
  },
  {
   "cell_type": "code",
   "execution_count": 17,
   "id": "b5c8cbfd-02fd-47be-a2c6-c9ba0150032b",
   "metadata": {},
   "outputs": [
    {
     "name": "stdout",
     "output_type": "stream",
     "text": [
      "<class 'pandas.core.frame.DataFrame'>\n",
      "Int64Index: 2144242 entries, 4 to 2152862\n",
      "Data columns (total 8 columns):\n",
      " #   Column                        Dtype  \n",
      "---  ------                        -----  \n",
      " 0   bedroomcnt                    float64\n",
      " 1   bathroomcnt                   float64\n",
      " 2   calculatedfinishedsquarefeet  float64\n",
      " 3   taxvaluedollarcnt             float64\n",
      " 4   yearbuilt                     int64  \n",
      " 5   taxamount                     float64\n",
      " 6   fips                          float64\n",
      " 7   propertylandusedesc           object \n",
      "dtypes: float64(6), int64(1), object(1)\n",
      "memory usage: 147.2+ MB\n"
     ]
    }
   ],
   "source": [
    "properties.info()"
   ]
  },
  {
   "cell_type": "code",
   "execution_count": 18,
   "id": "242cc12d-f147-41d0-8462-26abfc6f1ebf",
   "metadata": {},
   "outputs": [
    {
     "data": {
      "text/plain": [
       "5616.12711389353"
      ]
     },
     "execution_count": 18,
     "metadata": {},
     "output_type": "execute_result"
    }
   ],
   "source": [
    "# Finally let's fill in taxamount with the mean.\n",
    "properties.taxamount.mean()"
   ]
  },
  {
   "cell_type": "code",
   "execution_count": 19,
   "id": "cb594936-3c8f-42aa-b292-94d7b192641a",
   "metadata": {},
   "outputs": [],
   "source": [
    "properties.taxamount.fillna(properties.taxamount.mean(), inplace = True)"
   ]
  },
  {
   "cell_type": "code",
   "execution_count": 20,
   "id": "e2159b76-cdcb-426b-953a-282a75775eeb",
   "metadata": {},
   "outputs": [
    {
     "data": {
      "text/plain": [
       "bedroomcnt                      0\n",
       "bathroomcnt                     0\n",
       "calculatedfinishedsquarefeet    0\n",
       "taxvaluedollarcnt               0\n",
       "yearbuilt                       0\n",
       "taxamount                       0\n",
       "fips                            0\n",
       "propertylandusedesc             0\n",
       "dtype: int64"
      ]
     },
     "execution_count": 20,
     "metadata": {},
     "output_type": "execute_result"
    }
   ],
   "source": [
    "properties.isnull().sum()"
   ]
  },
  {
   "cell_type": "code",
   "execution_count": 21,
   "id": "f13c277a-4b0b-4f33-8cc3-8263d5075f67",
   "metadata": {},
   "outputs": [
    {
     "data": {
      "text/plain": [
       "(2144242, 8)"
      ]
     },
     "execution_count": 21,
     "metadata": {},
     "output_type": "execute_result"
    }
   ],
   "source": [
    "properties.shape"
   ]
  },
  {
   "cell_type": "code",
   "execution_count": 22,
   "id": "8294d3cb-176c-4473-8346-543cdd9e2222",
   "metadata": {},
   "outputs": [
    {
     "data": {
      "text/plain": [
       "1.0      6\n",
       "2.0      2\n",
       "3.0      7\n",
       "7.0      1\n",
       "10.0     2\n",
       "12.0     1\n",
       "20.0    29\n",
       "24.0     1\n",
       "29.0     1\n",
       "30.0     3\n",
       "31.0     1\n",
       "32.0     1\n",
       "40.0    13\n",
       "43.0     1\n",
       "48.0     3\n",
       "54.0     1\n",
       "55.0     1\n",
       "56.0     1\n",
       "60.0    25\n",
       "63.0     1\n",
       "64.0     1\n",
       "65.0     1\n",
       "66.0     1\n",
       "72.0     3\n",
       "76.0     1\n",
       "77.0     1\n",
       "78.0     1\n",
       "80.0     1\n",
       "90.0     1\n",
       "95.0     1\n",
       "Name: calculatedfinishedsquarefeet, dtype: int64"
      ]
     },
     "execution_count": 22,
     "metadata": {},
     "output_type": "execute_result"
    }
   ],
   "source": [
    "# There was also some weird values in the square footage column where the value was 1. Let's take a look.\n",
    "\n",
    "properties.calculatedfinishedsquarefeet.value_counts().sort_index().head(30)"
   ]
  },
  {
   "cell_type": "markdown",
   "id": "d28cd4cc-7661-4397-b518-b0ff8c716bfb",
   "metadata": {},
   "source": [
    "Based on some quick research, some of the smallest homes in the world appear to be around 70 square feet. In case some of these entries are legitimate we'll keep everything at 60 square feet or more."
   ]
  },
  {
   "cell_type": "code",
   "execution_count": 23,
   "id": "0adf1ea2-8af0-4f5c-b6b0-09f7c3be54c0",
   "metadata": {},
   "outputs": [],
   "source": [
    "sixty_square_feet_or_more = properties.calculatedfinishedsquarefeet >= 60\n",
    "properties = properties[sixty_square_feet_or_more]"
   ]
  },
  {
   "cell_type": "code",
   "execution_count": 24,
   "id": "836fc491-0211-490c-870a-af7adaa4154b",
   "metadata": {},
   "outputs": [
    {
     "data": {
      "text/html": [
       "<div>\n",
       "<style scoped>\n",
       "    .dataframe tbody tr th:only-of-type {\n",
       "        vertical-align: middle;\n",
       "    }\n",
       "\n",
       "    .dataframe tbody tr th {\n",
       "        vertical-align: top;\n",
       "    }\n",
       "\n",
       "    .dataframe thead th {\n",
       "        text-align: right;\n",
       "    }\n",
       "</style>\n",
       "<table border=\"1\" class=\"dataframe\">\n",
       "  <thead>\n",
       "    <tr style=\"text-align: right;\">\n",
       "      <th></th>\n",
       "      <th>count</th>\n",
       "      <th>mean</th>\n",
       "      <th>std</th>\n",
       "      <th>min</th>\n",
       "      <th>25%</th>\n",
       "      <th>50%</th>\n",
       "      <th>75%</th>\n",
       "      <th>max</th>\n",
       "    </tr>\n",
       "  </thead>\n",
       "  <tbody>\n",
       "    <tr>\n",
       "      <th>bedroomcnt</th>\n",
       "      <td>2144167.0</td>\n",
       "      <td>3.300090</td>\n",
       "      <td>0.934225</td>\n",
       "      <td>0.00</td>\n",
       "      <td>3.000</td>\n",
       "      <td>3.00</td>\n",
       "      <td>4.000</td>\n",
       "      <td>25.00</td>\n",
       "    </tr>\n",
       "    <tr>\n",
       "      <th>bathroomcnt</th>\n",
       "      <td>2144167.0</td>\n",
       "      <td>2.239428</td>\n",
       "      <td>0.991288</td>\n",
       "      <td>0.00</td>\n",
       "      <td>2.000</td>\n",
       "      <td>2.00</td>\n",
       "      <td>3.000</td>\n",
       "      <td>32.00</td>\n",
       "    </tr>\n",
       "    <tr>\n",
       "      <th>calculatedfinishedsquarefeet</th>\n",
       "      <td>2144167.0</td>\n",
       "      <td>1862.939873</td>\n",
       "      <td>1222.072751</td>\n",
       "      <td>60.00</td>\n",
       "      <td>1257.000</td>\n",
       "      <td>1623.00</td>\n",
       "      <td>2208.000</td>\n",
       "      <td>952576.00</td>\n",
       "    </tr>\n",
       "    <tr>\n",
       "      <th>taxvaluedollarcnt</th>\n",
       "      <td>2144167.0</td>\n",
       "      <td>460605.051426</td>\n",
       "      <td>678463.333888</td>\n",
       "      <td>1.00</td>\n",
       "      <td>188822.000</td>\n",
       "      <td>328000.00</td>\n",
       "      <td>534461.000</td>\n",
       "      <td>90188462.00</td>\n",
       "    </tr>\n",
       "    <tr>\n",
       "      <th>yearbuilt</th>\n",
       "      <td>2144167.0</td>\n",
       "      <td>1960.945829</td>\n",
       "      <td>22.153397</td>\n",
       "      <td>1801.00</td>\n",
       "      <td>1949.000</td>\n",
       "      <td>1958.00</td>\n",
       "      <td>1976.000</td>\n",
       "      <td>2016.00</td>\n",
       "    </tr>\n",
       "    <tr>\n",
       "      <th>taxamount</th>\n",
       "      <td>2144167.0</td>\n",
       "      <td>5616.251674</td>\n",
       "      <td>7809.257606</td>\n",
       "      <td>6.34</td>\n",
       "      <td>2542.235</td>\n",
       "      <td>4115.18</td>\n",
       "      <td>6407.335</td>\n",
       "      <td>1078101.87</td>\n",
       "    </tr>\n",
       "    <tr>\n",
       "      <th>fips</th>\n",
       "      <td>2144167.0</td>\n",
       "      <td>6048.316582</td>\n",
       "      <td>20.363256</td>\n",
       "      <td>6037.00</td>\n",
       "      <td>6037.000</td>\n",
       "      <td>6037.00</td>\n",
       "      <td>6059.000</td>\n",
       "      <td>6111.00</td>\n",
       "    </tr>\n",
       "  </tbody>\n",
       "</table>\n",
       "</div>"
      ],
      "text/plain": [
       "                                  count           mean            std  \\\n",
       "bedroomcnt                    2144167.0       3.300090       0.934225   \n",
       "bathroomcnt                   2144167.0       2.239428       0.991288   \n",
       "calculatedfinishedsquarefeet  2144167.0    1862.939873    1222.072751   \n",
       "taxvaluedollarcnt             2144167.0  460605.051426  678463.333888   \n",
       "yearbuilt                     2144167.0    1960.945829      22.153397   \n",
       "taxamount                     2144167.0    5616.251674    7809.257606   \n",
       "fips                          2144167.0    6048.316582      20.363256   \n",
       "\n",
       "                                  min         25%        50%         75%  \\\n",
       "bedroomcnt                       0.00       3.000       3.00       4.000   \n",
       "bathroomcnt                      0.00       2.000       2.00       3.000   \n",
       "calculatedfinishedsquarefeet    60.00    1257.000    1623.00    2208.000   \n",
       "taxvaluedollarcnt                1.00  188822.000  328000.00  534461.000   \n",
       "yearbuilt                     1801.00    1949.000    1958.00    1976.000   \n",
       "taxamount                        6.34    2542.235    4115.18    6407.335   \n",
       "fips                          6037.00    6037.000    6037.00    6059.000   \n",
       "\n",
       "                                      max  \n",
       "bedroomcnt                          25.00  \n",
       "bathroomcnt                         32.00  \n",
       "calculatedfinishedsquarefeet    952576.00  \n",
       "taxvaluedollarcnt             90188462.00  \n",
       "yearbuilt                         2016.00  \n",
       "taxamount                      1078101.87  \n",
       "fips                              6111.00  "
      ]
     },
     "execution_count": 24,
     "metadata": {},
     "output_type": "execute_result"
    }
   ],
   "source": [
    "properties.describe().T"
   ]
  },
  {
   "cell_type": "code",
   "execution_count": 25,
   "id": "8dab3449-9cf3-4070-834a-25c6d7e331a8",
   "metadata": {},
   "outputs": [
    {
     "data": {
      "text/plain": [
       "1.0       1\n",
       "4.0       1\n",
       "9.0      15\n",
       "10.0     22\n",
       "11.0      1\n",
       "16.0      1\n",
       "17.0      1\n",
       "18.0     67\n",
       "20.0      3\n",
       "22.0      8\n",
       "23.0      6\n",
       "31.0      1\n",
       "46.0      1\n",
       "101.0     1\n",
       "102.0     1\n",
       "103.0     4\n",
       "104.0     6\n",
       "105.0     1\n",
       "106.0     3\n",
       "107.0     2\n",
       "200.0     1\n",
       "284.0     1\n",
       "340.0     1\n",
       "387.0     1\n",
       "549.0     1\n",
       "568.0     2\n",
       "722.0     1\n",
       "762.0     1\n",
       "834.0     1\n",
       "895.0     1\n",
       "Name: taxvaluedollarcnt, dtype: int64"
      ]
     },
     "execution_count": 25,
     "metadata": {},
     "output_type": "execute_result"
    }
   ],
   "source": [
    "# Let's see the tax values\n",
    "properties.taxvaluedollarcnt.value_counts().sort_index().head(30)"
   ]
  },
  {
   "cell_type": "markdown",
   "id": "679109ca-72b5-4da1-8c1f-5b2d51c548b1",
   "metadata": {},
   "source": [
    "We won't do anything more."
   ]
  },
  {
   "cell_type": "code",
   "execution_count": 26,
   "id": "bbd4ff01-8e2d-41a6-981e-8885db57cb2c",
   "metadata": {},
   "outputs": [
    {
     "name": "stdout",
     "output_type": "stream",
     "text": [
      "<class 'pandas.core.frame.DataFrame'>\n",
      "Int64Index: 2144167 entries, 4 to 2152862\n",
      "Data columns (total 8 columns):\n",
      " #   Column                         Dtype  \n",
      "---  ------                         -----  \n",
      " 0   bedroom_count                  float64\n",
      " 1   bathroom_count                 float64\n",
      " 2   square_feet                    float64\n",
      " 3   tax_value_dollar_count         float64\n",
      " 4   year_built                     int64  \n",
      " 5   tax_amount                     float64\n",
      " 6   fed_code                       float64\n",
      " 7   property_land_use_description  object \n",
      "dtypes: float64(6), int64(1), object(1)\n",
      "memory usage: 147.2+ MB\n"
     ]
    }
   ],
   "source": [
    "# One last thing let's rename these columns\n",
    "\n",
    "properties = properties.rename(columns = {\n",
    "    'bedroomcnt' : 'bedroom_count',\n",
    "    'bathroomcnt' : 'bathroom_count',\n",
    "    'calculatedfinishedsquarefeet' : 'square_feet',\n",
    "    'taxvaluedollarcnt' : 'tax_value_dollar_count',\n",
    "    'yearbuilt' : 'year_built',\n",
    "    'taxamount' : 'tax_amount',\n",
    "    'fips' : 'fed_code',\n",
    "    'propertylandusedesc' : 'property_land_use_description'\n",
    "})\n",
    "properties.info()"
   ]
  },
  {
   "cell_type": "code",
   "execution_count": 27,
   "id": "5acebcf6-e677-4053-aee6-5a5322209529",
   "metadata": {},
   "outputs": [
    {
     "data": {
      "text/html": [
       "<div>\n",
       "<style scoped>\n",
       "    .dataframe tbody tr th:only-of-type {\n",
       "        vertical-align: middle;\n",
       "    }\n",
       "\n",
       "    .dataframe tbody tr th {\n",
       "        vertical-align: top;\n",
       "    }\n",
       "\n",
       "    .dataframe thead th {\n",
       "        text-align: right;\n",
       "    }\n",
       "</style>\n",
       "<table border=\"1\" class=\"dataframe\">\n",
       "  <thead>\n",
       "    <tr style=\"text-align: right;\">\n",
       "      <th></th>\n",
       "      <th>count</th>\n",
       "      <th>mean</th>\n",
       "      <th>std</th>\n",
       "      <th>min</th>\n",
       "      <th>25%</th>\n",
       "      <th>50%</th>\n",
       "      <th>75%</th>\n",
       "      <th>max</th>\n",
       "    </tr>\n",
       "  </thead>\n",
       "  <tbody>\n",
       "    <tr>\n",
       "      <th>bedroom_count</th>\n",
       "      <td>2144167.0</td>\n",
       "      <td>3.300090</td>\n",
       "      <td>0.934225</td>\n",
       "      <td>0.00</td>\n",
       "      <td>3.000</td>\n",
       "      <td>3.00</td>\n",
       "      <td>4.000</td>\n",
       "      <td>25.00</td>\n",
       "    </tr>\n",
       "    <tr>\n",
       "      <th>bathroom_count</th>\n",
       "      <td>2144167.0</td>\n",
       "      <td>2.239428</td>\n",
       "      <td>0.991288</td>\n",
       "      <td>0.00</td>\n",
       "      <td>2.000</td>\n",
       "      <td>2.00</td>\n",
       "      <td>3.000</td>\n",
       "      <td>32.00</td>\n",
       "    </tr>\n",
       "    <tr>\n",
       "      <th>square_feet</th>\n",
       "      <td>2144167.0</td>\n",
       "      <td>1862.939873</td>\n",
       "      <td>1222.072751</td>\n",
       "      <td>60.00</td>\n",
       "      <td>1257.000</td>\n",
       "      <td>1623.00</td>\n",
       "      <td>2208.000</td>\n",
       "      <td>952576.00</td>\n",
       "    </tr>\n",
       "    <tr>\n",
       "      <th>tax_value_dollar_count</th>\n",
       "      <td>2144167.0</td>\n",
       "      <td>460605.051426</td>\n",
       "      <td>678463.333888</td>\n",
       "      <td>1.00</td>\n",
       "      <td>188822.000</td>\n",
       "      <td>328000.00</td>\n",
       "      <td>534461.000</td>\n",
       "      <td>90188462.00</td>\n",
       "    </tr>\n",
       "    <tr>\n",
       "      <th>year_built</th>\n",
       "      <td>2144167.0</td>\n",
       "      <td>1960.945829</td>\n",
       "      <td>22.153397</td>\n",
       "      <td>1801.00</td>\n",
       "      <td>1949.000</td>\n",
       "      <td>1958.00</td>\n",
       "      <td>1976.000</td>\n",
       "      <td>2016.00</td>\n",
       "    </tr>\n",
       "    <tr>\n",
       "      <th>tax_amount</th>\n",
       "      <td>2144167.0</td>\n",
       "      <td>5616.251674</td>\n",
       "      <td>7809.257606</td>\n",
       "      <td>6.34</td>\n",
       "      <td>2542.235</td>\n",
       "      <td>4115.18</td>\n",
       "      <td>6407.335</td>\n",
       "      <td>1078101.87</td>\n",
       "    </tr>\n",
       "    <tr>\n",
       "      <th>fed_code</th>\n",
       "      <td>2144167.0</td>\n",
       "      <td>6048.316582</td>\n",
       "      <td>20.363256</td>\n",
       "      <td>6037.00</td>\n",
       "      <td>6037.000</td>\n",
       "      <td>6037.00</td>\n",
       "      <td>6059.000</td>\n",
       "      <td>6111.00</td>\n",
       "    </tr>\n",
       "  </tbody>\n",
       "</table>\n",
       "</div>"
      ],
      "text/plain": [
       "                            count           mean            std      min  \\\n",
       "bedroom_count           2144167.0       3.300090       0.934225     0.00   \n",
       "bathroom_count          2144167.0       2.239428       0.991288     0.00   \n",
       "square_feet             2144167.0    1862.939873    1222.072751    60.00   \n",
       "tax_value_dollar_count  2144167.0  460605.051426  678463.333888     1.00   \n",
       "year_built              2144167.0    1960.945829      22.153397  1801.00   \n",
       "tax_amount              2144167.0    5616.251674    7809.257606     6.34   \n",
       "fed_code                2144167.0    6048.316582      20.363256  6037.00   \n",
       "\n",
       "                               25%        50%         75%          max  \n",
       "bedroom_count                3.000       3.00       4.000        25.00  \n",
       "bathroom_count               2.000       2.00       3.000        32.00  \n",
       "square_feet               1257.000    1623.00    2208.000    952576.00  \n",
       "tax_value_dollar_count  188822.000  328000.00  534461.000  90188462.00  \n",
       "year_built                1949.000    1958.00    1976.000      2016.00  \n",
       "tax_amount                2542.235    4115.18    6407.335   1078101.87  \n",
       "fed_code                  6037.000    6037.00    6059.000      6111.00  "
      ]
     },
     "execution_count": 27,
     "metadata": {},
     "output_type": "execute_result"
    }
   ],
   "source": [
    "properties.describe().T"
   ]
  },
  {
   "cell_type": "markdown",
   "id": "275a0fa6-d10b-4d45-8f29-2b380c4a87dd",
   "metadata": {},
   "source": [
    "All done!"
   ]
  },
  {
   "cell_type": "markdown",
   "id": "9b982682-7449-43bd-9ce1-ab15ddb2cabf",
   "metadata": {},
   "source": [
    "# 3\n",
    "\n",
    "Store all of the necessary functions to automate your process from acquiring the data to returning a cleaned dataframe witn no missing values in your wrangle.py file. Name your final function wrangle_zillow."
   ]
  },
  {
   "cell_type": "code",
   "execution_count": 28,
   "id": "12912377-4cd7-4d69-bac7-b29b9baeafa5",
   "metadata": {},
   "outputs": [],
   "source": [
    "# These are the acquisition functions\n",
    "\n",
    "def get_zillow_data(use_cache: bool = True) -> pd.core.frame.DataFrame:\n",
    "    '''\n",
    "        Return a dataframe containing data from the zillow properties dataset.\n",
    "\n",
    "        If a zillow.csv file containing the data does not already\n",
    "        exist the data will be cached in that file inside the current\n",
    "        working directory. Otherwise, the data will be read from the\n",
    "        .csv file.\n",
    "\n",
    "        Parameters\n",
    "        ----------\n",
    "        use_cache: bool, default True\n",
    "            If True the dataset will be retrieved from a csv file if one\n",
    "            exists, otherwise, it will be retrieved from the MySQL database. \n",
    "            If False the dataset will be retrieved from the MySQL database\n",
    "            even if the csv file exists.\n",
    "\n",
    "        Returns\n",
    "        -------\n",
    "        DataFrame: A Pandas DataFrame containing the data from the zillow\n",
    "            dataset is returned.\n",
    "    '''\n",
    "\n",
    "    # If the file is cached, read from the .csv file\n",
    "    if os.path.exists('zillow.csv') and use_cache:\n",
    "        return pd.read_csv('zillow.csv')\n",
    "    \n",
    "    # Otherwise read from the mysql database\n",
    "    else:\n",
    "        df = pd.read_sql(_get_zillow_sql(), get_db_url('zillow'))\n",
    "        df.to_csv('zillow.csv', index = False)\n",
    "        return df\n",
    "    \n",
    "def _get_zillow_sql() -> str:\n",
    "    '''\n",
    "        Returns the SQL code required to retrieve the zillow dataset\n",
    "        from the MySQL database.\n",
    "    '''\n",
    "\n",
    "    return '''\n",
    "        SELECT\n",
    "            bedroomcnt,\n",
    "            bathroomcnt,\n",
    "            calculatedfinishedsquarefeet,\n",
    "            taxvaluedollarcnt,\n",
    "            yearbuilt,\n",
    "            taxamount,\n",
    "            fips,\n",
    "            propertylandusedesc\n",
    "        FROM properties_2017\n",
    "        JOIN propertylandusetype\n",
    "            ON propertylandusetype.propertylandusetypeid = properties_2017.propertylandusetypeid\n",
    "            AND propertylandusetype.propertylandusedesc = 'Single Family Residential';\n",
    "    '''"
   ]
  },
  {
   "cell_type": "code",
   "execution_count": 33,
   "id": "ef9573a7-767b-48cd-b044-65e312e86d96",
   "metadata": {},
   "outputs": [],
   "source": [
    "# This is the prepare function\n",
    "\n",
    "def prepare_zillow_data(df: pd.core.frame.DataFrame) -> pd.core.frame.DataFrame:\n",
    "    '''\n",
    "        Returns a prepared zillow dataset with all missing values handled.\n",
    "        \n",
    "        Parameters\n",
    "        ----------\n",
    "        df: DataFrame\n",
    "            A pandas dataframe containing the unprepared zillow dataset.\n",
    "        \n",
    "        Returns\n",
    "        -------\n",
    "        DataFrame: A pandas dataframe containing the prepared zillow dataset.\n",
    "    '''\n",
    "    \n",
    "    # Remove rows with two or more missing values.\n",
    "    rows_with_one_or_less_missing_values = df.isnull().sum(axis = 1) < 2\n",
    "    df = df[rows_with_one_or_less_missing_values]\n",
    "\n",
    "    # Remove rows missing square footage\n",
    "    rows_not_missing_square_feet = df.calculatedfinishedsquarefeet.notnull()\n",
    "    df = df[rows_not_missing_square_feet]\n",
    "\n",
    "    # Remove rows missing taxvaluedollarcnt\n",
    "    rows_not_missing_taxvalue = df.taxvaluedollarcnt.notnull()\n",
    "    df = df[rows_not_missing_taxvalue]\n",
    "    \n",
    "    # Fill in yearbuilt column with the mode and cast to int\n",
    "    df.yearbuilt.fillna(df.yearbuilt.mode()[0], inplace = True)\n",
    "    df.yearbuilt = df.yearbuilt.astype('int')\n",
    "    \n",
    "    # Fill in the taxamount column with the mean\n",
    "    df.taxamount.fillna(df.taxamount.mean(), inplace = True)\n",
    "    \n",
    "    # Remove properties with less than 60 square feet\n",
    "    sixty_square_feet_or_more = df.calculatedfinishedsquarefeet >= 60\n",
    "    df = df[sixty_square_feet_or_more]\n",
    "\n",
    "    # Rename the columns for readability\n",
    "    df = df.rename(columns = {\n",
    "        'bedroomcnt' : 'bedroom_count',\n",
    "        'bathroomcnt' : 'bathroom_count',\n",
    "        'calculatedfinishedsquarefeet' : 'square_feet',\n",
    "        'taxvaluedollarcnt' : 'tax_value_dollar_count',\n",
    "        'yearbuilt' : 'year_built',\n",
    "        'taxamount' : 'tax_amount',\n",
    "        'fips' : 'fed_code',\n",
    "        'propertylandusedesc' : 'property_land_use_description'\n",
    "    })\n",
    "    \n",
    "    return df"
   ]
  },
  {
   "cell_type": "code",
   "execution_count": 34,
   "id": "e3998f39-7580-403c-a048-66571f3fc6c0",
   "metadata": {},
   "outputs": [],
   "source": [
    "# Now let's bring it all together\n",
    "\n",
    "def wrangle_zillow() -> pd.core.frame.DataFrame:\n",
    "    '''\n",
    "        Returns the acquired and prepared zillow dataset.\n",
    "        \n",
    "        Returns\n",
    "        -------\n",
    "        DataFrame: A pandas dataframe containing the prepared zillow dataset.\n",
    "    '''\n",
    "    \n",
    "    return prepare_zillow_data(get_zillow_data())"
   ]
  },
  {
   "cell_type": "code",
   "execution_count": 35,
   "id": "e481b273-310d-4960-bcee-0ebe8c914692",
   "metadata": {},
   "outputs": [],
   "source": [
    "# Let's test it\n",
    "df = wrangle_zillow()"
   ]
  },
  {
   "cell_type": "code",
   "execution_count": 36,
   "id": "33893d75-89ef-4040-912f-a51f90f96442",
   "metadata": {},
   "outputs": [
    {
     "name": "stdout",
     "output_type": "stream",
     "text": [
      "<class 'pandas.core.frame.DataFrame'>\n",
      "Int64Index: 2144167 entries, 4 to 2152862\n",
      "Data columns (total 8 columns):\n",
      " #   Column                         Non-Null Count    Dtype  \n",
      "---  ------                         --------------    -----  \n",
      " 0   bedroom_count                  2144167 non-null  float64\n",
      " 1   bathroom_count                 2144167 non-null  float64\n",
      " 2   square_feet                    2144167 non-null  float64\n",
      " 3   tax_value_dollar_count         2144167 non-null  float64\n",
      " 4   year_built                     2144167 non-null  int64  \n",
      " 5   tax_amount                     2144167 non-null  float64\n",
      " 6   fed_code                       2144167 non-null  float64\n",
      " 7   property_land_use_description  2144167 non-null  object \n",
      "dtypes: float64(6), int64(1), object(1)\n",
      "memory usage: 147.2+ MB\n"
     ]
    }
   ],
   "source": [
    "df.info(show_counts = True)"
   ]
  }
 ],
 "metadata": {
  "kernelspec": {
   "display_name": "Python 3 (ipykernel)",
   "language": "python",
   "name": "python3"
  },
  "language_info": {
   "codemirror_mode": {
    "name": "ipython",
    "version": 3
   },
   "file_extension": ".py",
   "mimetype": "text/x-python",
   "name": "python",
   "nbconvert_exporter": "python",
   "pygments_lexer": "ipython3",
   "version": "3.9.7"
  }
 },
 "nbformat": 4,
 "nbformat_minor": 5
}
