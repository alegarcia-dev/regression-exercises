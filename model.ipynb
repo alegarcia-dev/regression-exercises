{
 "cells": [
  {
   "cell_type": "code",
   "execution_count": 1,
   "id": "2ee13871-0f92-4c55-b9fd-3193d4e1cd34",
   "metadata": {},
   "outputs": [],
   "source": [
    "import numpy as np\n",
    "import pandas as pd\n",
    "import matplotlib.pyplot as plt\n",
    "import seaborn as sns\n",
    "\n",
    "from sklearn.model_selection import train_test_split\n",
    "\n",
    "from sklearn.linear_model import LinearRegression, LassoLars, TweedieRegressor\n",
    "from sklearn.preprocessing import PolynomialFeatures\n",
    "\n",
    "from sklearn.metrics import mean_squared_error, r2_score\n",
    "from sklearn.preprocessing import MinMaxScaler\n",
    "\n",
    "from sklearn.feature_selection import SelectKBest, RFE, f_regression\n",
    "\n",
    "from pydataset import data"
   ]
  },
  {
   "cell_type": "markdown",
   "id": "90de80eb-8dea-40eb-884b-835189cdd9f8",
   "metadata": {},
   "source": [
    "# Regression Model Exercises\n",
    "\n",
    "1. Select a dataset with a continuous target variable.\n",
    "\n",
    "2. Be sure your data is prepared (no missing values, numeric datatypes) and split into samples.\n",
    "\n",
    "3. Work through all of the steps outlined in the lesson, from setting the baseline to selected a model and evaluating the final model on your test data."
   ]
  },
  {
   "cell_type": "markdown",
   "id": "daef82ce-0dd8-4168-a4ff-b3c6a113b4a4",
   "metadata": {},
   "source": [
    "## Acquire and Prepare Data"
   ]
  },
  {
   "cell_type": "code",
   "execution_count": 2,
   "id": "e753787c-aa9b-4bf7-8f94-2c464b1b4940",
   "metadata": {},
   "outputs": [
    {
     "name": "stdout",
     "output_type": "stream",
     "text": [
      "<class 'pandas.core.frame.DataFrame'>\n",
      "Int64Index: 236 entries, 1 to 593\n",
      "Data columns (total 6 columns):\n",
      " #   Column        Non-Null Count  Dtype \n",
      "---  ------        --------------  ----- \n",
      " 0   treatment     236 non-null    object\n",
      " 1   base          236 non-null    int64 \n",
      " 2   age           236 non-null    int64 \n",
      " 3   seizure.rate  236 non-null    int64 \n",
      " 4   period        236 non-null    int64 \n",
      " 5   subject       236 non-null    int64 \n",
      "dtypes: int64(5), object(1)\n",
      "memory usage: 12.9+ KB\n"
     ]
    }
   ],
   "source": [
    "epilepsy = data('epilepsy')\n",
    "epilepsy.info()"
   ]
  },
  {
   "cell_type": "code",
   "execution_count": 3,
   "id": "f5199da5-9616-4418-b371-8d8009e6b449",
   "metadata": {},
   "outputs": [
    {
     "data": {
      "text/html": [
       "<div>\n",
       "<style scoped>\n",
       "    .dataframe tbody tr th:only-of-type {\n",
       "        vertical-align: middle;\n",
       "    }\n",
       "\n",
       "    .dataframe tbody tr th {\n",
       "        vertical-align: top;\n",
       "    }\n",
       "\n",
       "    .dataframe thead th {\n",
       "        text-align: right;\n",
       "    }\n",
       "</style>\n",
       "<table border=\"1\" class=\"dataframe\">\n",
       "  <thead>\n",
       "    <tr style=\"text-align: right;\">\n",
       "      <th></th>\n",
       "      <th>count</th>\n",
       "      <th>mean</th>\n",
       "      <th>std</th>\n",
       "      <th>min</th>\n",
       "      <th>25%</th>\n",
       "      <th>50%</th>\n",
       "      <th>75%</th>\n",
       "      <th>max</th>\n",
       "    </tr>\n",
       "  </thead>\n",
       "  <tbody>\n",
       "    <tr>\n",
       "      <th>base</th>\n",
       "      <td>236.0</td>\n",
       "      <td>31.220339</td>\n",
       "      <td>26.705051</td>\n",
       "      <td>6.0</td>\n",
       "      <td>12.00</td>\n",
       "      <td>22.0</td>\n",
       "      <td>41.00</td>\n",
       "      <td>151.0</td>\n",
       "    </tr>\n",
       "    <tr>\n",
       "      <th>age</th>\n",
       "      <td>236.0</td>\n",
       "      <td>28.338983</td>\n",
       "      <td>6.261290</td>\n",
       "      <td>18.0</td>\n",
       "      <td>23.00</td>\n",
       "      <td>28.0</td>\n",
       "      <td>32.00</td>\n",
       "      <td>42.0</td>\n",
       "    </tr>\n",
       "    <tr>\n",
       "      <th>seizure.rate</th>\n",
       "      <td>236.0</td>\n",
       "      <td>8.262712</td>\n",
       "      <td>12.356360</td>\n",
       "      <td>0.0</td>\n",
       "      <td>2.75</td>\n",
       "      <td>4.0</td>\n",
       "      <td>9.00</td>\n",
       "      <td>102.0</td>\n",
       "    </tr>\n",
       "    <tr>\n",
       "      <th>period</th>\n",
       "      <td>236.0</td>\n",
       "      <td>2.500000</td>\n",
       "      <td>1.120410</td>\n",
       "      <td>1.0</td>\n",
       "      <td>1.75</td>\n",
       "      <td>2.5</td>\n",
       "      <td>3.25</td>\n",
       "      <td>4.0</td>\n",
       "    </tr>\n",
       "    <tr>\n",
       "      <th>subject</th>\n",
       "      <td>236.0</td>\n",
       "      <td>30.000000</td>\n",
       "      <td>17.065581</td>\n",
       "      <td>1.0</td>\n",
       "      <td>15.00</td>\n",
       "      <td>30.0</td>\n",
       "      <td>45.00</td>\n",
       "      <td>59.0</td>\n",
       "    </tr>\n",
       "  </tbody>\n",
       "</table>\n",
       "</div>"
      ],
      "text/plain": [
       "              count       mean        std   min    25%   50%    75%    max\n",
       "base          236.0  31.220339  26.705051   6.0  12.00  22.0  41.00  151.0\n",
       "age           236.0  28.338983   6.261290  18.0  23.00  28.0  32.00   42.0\n",
       "seizure.rate  236.0   8.262712  12.356360   0.0   2.75   4.0   9.00  102.0\n",
       "period        236.0   2.500000   1.120410   1.0   1.75   2.5   3.25    4.0\n",
       "subject       236.0  30.000000  17.065581   1.0  15.00  30.0  45.00   59.0"
      ]
     },
     "execution_count": 3,
     "metadata": {},
     "output_type": "execute_result"
    }
   ],
   "source": [
    "epilepsy.describe().T"
   ]
  },
  {
   "cell_type": "code",
   "execution_count": 4,
   "id": "9abb16be-85a9-4631-a5e7-7fd5f8deaa6e",
   "metadata": {},
   "outputs": [],
   "source": [
    "epilepsy = epilepsy.rename(columns = {'seizure.rate' : 'seizure_rate'})"
   ]
  },
  {
   "cell_type": "code",
   "execution_count": 5,
   "id": "e0f002e0-6e4d-4af6-9d77-3f15518a753f",
   "metadata": {},
   "outputs": [
    {
     "name": "stdout",
     "output_type": "stream",
     "text": [
      "<class 'pandas.core.frame.DataFrame'>\n",
      "Int64Index: 236 entries, 1 to 593\n",
      "Data columns (total 6 columns):\n",
      " #   Column        Non-Null Count  Dtype \n",
      "---  ------        --------------  ----- \n",
      " 0   treatment     236 non-null    object\n",
      " 1   base          236 non-null    int64 \n",
      " 2   age           236 non-null    int64 \n",
      " 3   seizure_rate  236 non-null    int64 \n",
      " 4   period        236 non-null    int64 \n",
      " 5   subject       236 non-null    int64 \n",
      "dtypes: int64(5), object(1)\n",
      "memory usage: 12.9+ KB\n"
     ]
    }
   ],
   "source": [
    "epilepsy.info()"
   ]
  },
  {
   "cell_type": "code",
   "execution_count": 6,
   "id": "cc668db1-2f39-4983-b0c6-16c84f1371a5",
   "metadata": {},
   "outputs": [
    {
     "name": "stdout",
     "output_type": "stream",
     "text": [
      "<class 'pandas.core.frame.DataFrame'>\n",
      "Int64Index: 236 entries, 1 to 593\n",
      "Data columns (total 7 columns):\n",
      " #   Column               Non-Null Count  Dtype\n",
      "---  ------               --------------  -----\n",
      " 0   base                 236 non-null    int64\n",
      " 1   age                  236 non-null    int64\n",
      " 2   seizure_rate         236 non-null    int64\n",
      " 3   period               236 non-null    int64\n",
      " 4   subject              236 non-null    int64\n",
      " 5   treatment_Progabide  236 non-null    uint8\n",
      " 6   treatment_placebo    236 non-null    uint8\n",
      "dtypes: int64(5), uint8(2)\n",
      "memory usage: 11.5 KB\n"
     ]
    }
   ],
   "source": [
    "dummy_df = pd.get_dummies(epilepsy[['treatment']], dummy_na = False, drop_first = False)\n",
    "epilepsy = pd.concat([epilepsy, dummy_df], axis = 1)\n",
    "epilepsy = epilepsy.drop(columns = 'treatment')\n",
    "epilepsy.info()"
   ]
  },
  {
   "cell_type": "markdown",
   "id": "af841d19-e4fb-4264-911a-f0020579b67e",
   "metadata": {},
   "source": [
    "## Split Data"
   ]
  },
  {
   "cell_type": "code",
   "execution_count": 7,
   "id": "dbdb0b81-c5e9-4d66-9105-60dabb459c53",
   "metadata": {},
   "outputs": [],
   "source": [
    "train_val, test = train_test_split(epilepsy, test_size = 0.2, random_state = 24)\n",
    "train, validate = train_test_split(train_val, test_size = 0.3, random_state = 24)"
   ]
  },
  {
   "cell_type": "code",
   "execution_count": 8,
   "id": "0b5de104-fe85-4160-a9dd-8ab536021905",
   "metadata": {},
   "outputs": [],
   "source": [
    "X_train, y_train = train.drop(columns = 'seizure_rate'), train[['seizure_rate']]\n",
    "X_validate, y_validate = validate.drop(columns = 'seizure_rate'), validate[['seizure_rate']]\n",
    "X_test, y_test = test.drop(columns = 'seizure_rate'), test[['seizure_rate']]"
   ]
  },
  {
   "cell_type": "markdown",
   "id": "3a094003-241a-4bc3-9387-d20af3c5af30",
   "metadata": {},
   "source": [
    "## Creating a Baseline"
   ]
  },
  {
   "cell_type": "code",
   "execution_count": 9,
   "id": "3a6e83df-8907-4d9e-a08e-568962d00bec",
   "metadata": {},
   "outputs": [
    {
     "data": {
      "text/plain": [
       "(131, 2)"
      ]
     },
     "execution_count": 9,
     "metadata": {},
     "output_type": "execute_result"
    }
   ],
   "source": [
    "# Let's compare a median baseline versus a mean baseline\n",
    "baseline = pd.DataFrame({\n",
    "    'median' : [y_train.seizure_rate.median()] * y_train.size,\n",
    "    'mean' : [y_train.seizure_rate.mean()] * y_train.size\n",
    "})\n",
    "baseline.shape"
   ]
  },
  {
   "cell_type": "code",
   "execution_count": 10,
   "id": "1a2d3bea-a512-4827-9562-3b86e3d90867",
   "metadata": {},
   "outputs": [
    {
     "data": {
      "text/html": [
       "<div>\n",
       "<style scoped>\n",
       "    .dataframe tbody tr th:only-of-type {\n",
       "        vertical-align: middle;\n",
       "    }\n",
       "\n",
       "    .dataframe tbody tr th {\n",
       "        vertical-align: top;\n",
       "    }\n",
       "\n",
       "    .dataframe thead th {\n",
       "        text-align: right;\n",
       "    }\n",
       "</style>\n",
       "<table border=\"1\" class=\"dataframe\">\n",
       "  <thead>\n",
       "    <tr style=\"text-align: right;\">\n",
       "      <th></th>\n",
       "      <th>median</th>\n",
       "      <th>mean</th>\n",
       "    </tr>\n",
       "  </thead>\n",
       "  <tbody>\n",
       "    <tr>\n",
       "      <th>0</th>\n",
       "      <td>4.0</td>\n",
       "      <td>7.183206</td>\n",
       "    </tr>\n",
       "    <tr>\n",
       "      <th>1</th>\n",
       "      <td>4.0</td>\n",
       "      <td>7.183206</td>\n",
       "    </tr>\n",
       "    <tr>\n",
       "      <th>2</th>\n",
       "      <td>4.0</td>\n",
       "      <td>7.183206</td>\n",
       "    </tr>\n",
       "    <tr>\n",
       "      <th>3</th>\n",
       "      <td>4.0</td>\n",
       "      <td>7.183206</td>\n",
       "    </tr>\n",
       "    <tr>\n",
       "      <th>4</th>\n",
       "      <td>4.0</td>\n",
       "      <td>7.183206</td>\n",
       "    </tr>\n",
       "  </tbody>\n",
       "</table>\n",
       "</div>"
      ],
      "text/plain": [
       "   median      mean\n",
       "0     4.0  7.183206\n",
       "1     4.0  7.183206\n",
       "2     4.0  7.183206\n",
       "3     4.0  7.183206\n",
       "4     4.0  7.183206"
      ]
     },
     "execution_count": 10,
     "metadata": {},
     "output_type": "execute_result"
    }
   ],
   "source": [
    "baseline.head()"
   ]
  },
  {
   "cell_type": "code",
   "execution_count": 11,
   "id": "3920e078-72ad-4c99-ae0e-3d12d06753d2",
   "metadata": {},
   "outputs": [
    {
     "name": "stdout",
     "output_type": "stream",
     "text": [
      "RMSE median baseline: 10.099127012381503\n",
      "RMSE mean baseline: 9.584339585667749\n"
     ]
    }
   ],
   "source": [
    "print(f'RMSE median baseline: {mean_squared_error(y_train, baseline[\"median\"], squared = False)}')\n",
    "print(f'RMSE mean baseline: {mean_squared_error(y_train, baseline[\"mean\"], squared = False)}')"
   ]
  },
  {
   "cell_type": "markdown",
   "id": "cff3ddd7-5ba9-44f7-a587-4cc5e162084b",
   "metadata": {},
   "source": [
    "We'll use the mean as our baseline."
   ]
  },
  {
   "cell_type": "markdown",
   "id": "8e4440cf-8a50-4ec2-bf41-69091b4089dc",
   "metadata": {},
   "source": [
    "## Create Models"
   ]
  },
  {
   "cell_type": "code",
   "execution_count": 12,
   "id": "03f409e9-fdda-40dc-a043-9811e16db5dd",
   "metadata": {},
   "outputs": [],
   "source": [
    "# We'll keep all our results in this dictionary\n",
    "baseline_validate = pd.DataFrame({\n",
    "    'mean' : [y_train.seizure_rate.mean()] * y_validate.size\n",
    "})\n",
    "\n",
    "results = {\n",
    "    'baseline' : {\n",
    "        'RMSE_train' : mean_squared_error(y_train, baseline['mean'], squared = False),\n",
    "        'RMSE_validate' : mean_squared_error(y_validate, baseline_validate['mean'], squared = False)\n",
    "    }\n",
    "}\n",
    "\n",
    "models = {}"
   ]
  },
  {
   "cell_type": "markdown",
   "id": "f638d317-12ae-46dd-8417-7302615f2d08",
   "metadata": {},
   "source": [
    "### Linear Regression"
   ]
  },
  {
   "cell_type": "code",
   "execution_count": 13,
   "id": "1d20a5db-f313-4d97-bdeb-e3f7b8ca5b8b",
   "metadata": {},
   "outputs": [
    {
     "data": {
      "text/plain": [
       "Index(['base', 'age', 'period', 'treatment_placebo'], dtype='object')"
      ]
     },
     "execution_count": 13,
     "metadata": {},
     "output_type": "execute_result"
    }
   ],
   "source": [
    "# We'll use RFE feature selection to select the four best features\n",
    "model = LinearRegression()\n",
    "models['linear regression'] = model\n",
    "\n",
    "k = 4\n",
    "\n",
    "rfe = RFE(model, n_features_to_select = k)\n",
    "rfe.fit(X_train, y_train)\n",
    "\n",
    "X_train_rfe = rfe.transform(X_train)\n",
    "model.fit(X_train_rfe, y_train)\n",
    "\n",
    "X_train.columns[rfe.get_support()]"
   ]
  },
  {
   "cell_type": "code",
   "execution_count": 14,
   "id": "98623304-4d06-4181-9811-583bd6365703",
   "metadata": {},
   "outputs": [],
   "source": [
    "X_validate_rfe = rfe.transform(X_validate)\n",
    "\n",
    "results['linear regression'] = {\n",
    "    'RMSE_train' : mean_squared_error(y_train, model.predict(X_train_rfe), squared = False),\n",
    "    'RMSE_validate' : mean_squared_error(y_validate, model.predict(X_validate_rfe), squared = False)\n",
    "}"
   ]
  },
  {
   "cell_type": "markdown",
   "id": "f21d5970-8ef1-4545-86b5-54312d5999e2",
   "metadata": {},
   "source": [
    "### LassoLars"
   ]
  },
  {
   "cell_type": "code",
   "execution_count": 15,
   "id": "74c6a781-8bdb-41f1-a1e0-74b4ad31eda6",
   "metadata": {},
   "outputs": [
    {
     "data": {
      "text/plain": [
       "Index(['period', 'subject', 'treatment_Progabide', 'treatment_placebo'], dtype='object')"
      ]
     },
     "execution_count": 15,
     "metadata": {},
     "output_type": "execute_result"
    }
   ],
   "source": [
    "model = LassoLars()\n",
    "models['lasso lars'] = model\n",
    "\n",
    "rfe = RFE(model, n_features_to_select = k)\n",
    "rfe.fit(X_train, y_train)\n",
    "\n",
    "X_train_rfe = rfe.transform(X_train)\n",
    "model.fit(X_train_rfe, y_train)\n",
    "\n",
    "X_train.columns[rfe.get_support()]"
   ]
  },
  {
   "cell_type": "code",
   "execution_count": 16,
   "id": "97ef2f82-dacd-4fe1-9728-4580a439feca",
   "metadata": {},
   "outputs": [],
   "source": [
    "X_validate_rfe = rfe.transform(X_validate)\n",
    "\n",
    "results['lasso lars'] = {\n",
    "    'RMSE_train' : mean_squared_error(y_train, model.predict(X_train_rfe), squared = False),\n",
    "    'RMSE_validate' : mean_squared_error(y_validate, model.predict(X_validate_rfe), squared = False)\n",
    "}"
   ]
  },
  {
   "cell_type": "markdown",
   "id": "303a93c3-bcd7-4b99-be9b-a9bead705723",
   "metadata": {},
   "source": [
    "### Tweedie Regressor"
   ]
  },
  {
   "cell_type": "code",
   "execution_count": 17,
   "id": "5c832208-09ca-426f-8df2-209dd8a2ee73",
   "metadata": {},
   "outputs": [
    {
     "name": "stderr",
     "output_type": "stream",
     "text": [
      "/opt/homebrew/anaconda3/lib/python3.9/site-packages/sklearn/utils/validation.py:63: DataConversionWarning: A column-vector y was passed when a 1d array was expected. Please change the shape of y to (n_samples, ), for example using ravel().\n",
      "  return f(*args, **kwargs)\n",
      "/opt/homebrew/anaconda3/lib/python3.9/site-packages/sklearn/utils/validation.py:63: DataConversionWarning: A column-vector y was passed when a 1d array was expected. Please change the shape of y to (n_samples, ), for example using ravel().\n",
      "  return f(*args, **kwargs)\n",
      "/opt/homebrew/anaconda3/lib/python3.9/site-packages/sklearn/utils/validation.py:63: DataConversionWarning: A column-vector y was passed when a 1d array was expected. Please change the shape of y to (n_samples, ), for example using ravel().\n",
      "  return f(*args, **kwargs)\n",
      "/opt/homebrew/anaconda3/lib/python3.9/site-packages/sklearn/utils/validation.py:63: DataConversionWarning: A column-vector y was passed when a 1d array was expected. Please change the shape of y to (n_samples, ), for example using ravel().\n",
      "  return f(*args, **kwargs)\n"
     ]
    },
    {
     "data": {
      "text/plain": [
       "Index(['base', 'age', 'period', 'treatment_placebo'], dtype='object')"
      ]
     },
     "execution_count": 17,
     "metadata": {},
     "output_type": "execute_result"
    }
   ],
   "source": [
    "model = TweedieRegressor(power = 1)\n",
    "models['tweedie regressor'] = model\n",
    "\n",
    "rfe = RFE(model, n_features_to_select = k)\n",
    "rfe.fit(X_train, y_train)\n",
    "\n",
    "X_train_rfe = rfe.transform(X_train)\n",
    "model.fit(X_train_rfe, y_train)\n",
    "\n",
    "X_train.columns[rfe.get_support()]"
   ]
  },
  {
   "cell_type": "code",
   "execution_count": 18,
   "id": "545c9d70-5841-4c36-a620-cdc3d3e16c8a",
   "metadata": {},
   "outputs": [],
   "source": [
    "X_validate_rfe = rfe.transform(X_validate)\n",
    "\n",
    "results['tweedie regressor'] = {\n",
    "    'RMSE_train' : mean_squared_error(y_train, model.predict(X_train_rfe), squared = False),\n",
    "    'RMSE_validate' : mean_squared_error(y_validate, model.predict(X_validate_rfe), squared = False)\n",
    "}"
   ]
  },
  {
   "cell_type": "markdown",
   "id": "8a49b8a1-44d8-454c-aee6-4564a6e4fcf6",
   "metadata": {},
   "source": [
    "### Polynomial Regression"
   ]
  },
  {
   "cell_type": "code",
   "execution_count": 19,
   "id": "337d9107-d347-4b2a-80bd-476e7a73aaaf",
   "metadata": {},
   "outputs": [
    {
     "data": {
      "text/plain": [
       "Index(['base', 'age', 'period', 'treatment_Progabide^2'], dtype='object')"
      ]
     },
     "execution_count": 19,
     "metadata": {},
     "output_type": "execute_result"
    }
   ],
   "source": [
    "poly = PolynomialFeatures(degree = 2, include_bias = False, interaction_only = False)\n",
    "poly.fit(X_train)\n",
    "\n",
    "X_train_poly = pd.DataFrame(\n",
    "    poly.transform(X_train),\n",
    "    columns = poly.get_feature_names(X_train.columns),\n",
    "    index = X_train.index\n",
    ")\n",
    "\n",
    "model = LinearRegression()\n",
    "models['polynomial regression'] = model\n",
    "\n",
    "rfe = RFE(model, n_features_to_select = k)\n",
    "rfe.fit(X_train_poly, y_train)\n",
    "\n",
    "X_train_rfe = rfe.transform(X_train_poly)\n",
    "model.fit(X_train_rfe, y_train)\n",
    "\n",
    "X_train_poly.columns[rfe.get_support()]"
   ]
  },
  {
   "cell_type": "code",
   "execution_count": 20,
   "id": "b6a3a93b-d284-4bac-952e-ed9de44e1a53",
   "metadata": {},
   "outputs": [],
   "source": [
    "X_validate_poly = pd.DataFrame(\n",
    "    poly.transform(X_validate),\n",
    "    columns = poly.get_feature_names(X_validate.columns),\n",
    "    index = X_validate.index\n",
    ")\n",
    "\n",
    "X_validate_rfe = rfe.transform(X_validate_poly)\n",
    "\n",
    "results['polynomial regression'] = {\n",
    "    'RMSE_train' : mean_squared_error(y_train, model.predict(X_train_rfe), squared = False),\n",
    "    'RMSE_validate' : mean_squared_error(y_validate, model.predict(X_validate_rfe), squared = False)\n",
    "}"
   ]
  },
  {
   "cell_type": "markdown",
   "id": "b4838fc9-6722-4f51-af5a-f793fe3916f6",
   "metadata": {},
   "source": [
    "### Polynomial Regression Interactions Only"
   ]
  },
  {
   "cell_type": "code",
   "execution_count": 21,
   "id": "d358fec9-e100-408f-baba-3a3b8145a811",
   "metadata": {},
   "outputs": [
    {
     "data": {
      "text/plain": [
       "Index(['base', 'treatment_Progabide', 'treatment_placebo',\n",
       "       'period treatment_placebo'],\n",
       "      dtype='object')"
      ]
     },
     "execution_count": 21,
     "metadata": {},
     "output_type": "execute_result"
    }
   ],
   "source": [
    "poly = PolynomialFeatures(degree = 2, include_bias = False, interaction_only = True)\n",
    "poly.fit(X_train)\n",
    "\n",
    "X_train_poly = pd.DataFrame(\n",
    "    poly.transform(X_train),\n",
    "    columns = poly.get_feature_names(X_train.columns),\n",
    "    index = X_train.index\n",
    ")\n",
    "\n",
    "model = LinearRegression()\n",
    "models['polynomial regression interaction only'] = model\n",
    "\n",
    "rfe = RFE(model, n_features_to_select = k)\n",
    "rfe.fit(X_train_poly, y_train)\n",
    "\n",
    "X_train_rfe = rfe.transform(X_train_poly)\n",
    "model.fit(X_train_rfe, y_train)\n",
    "\n",
    "X_train_poly.columns[rfe.get_support()]"
   ]
  },
  {
   "cell_type": "code",
   "execution_count": 22,
   "id": "9029823b-50e0-42a6-8742-c7c8ab7098d9",
   "metadata": {},
   "outputs": [],
   "source": [
    "X_validate_poly = pd.DataFrame(\n",
    "    poly.transform(X_validate),\n",
    "    columns = poly.get_feature_names(X_validate.columns),\n",
    "    index = X_validate.index\n",
    ")\n",
    "\n",
    "X_validate_rfe = rfe.transform(X_validate_poly)\n",
    "\n",
    "results['polynomial regression interaction only'] = {\n",
    "    'RMSE_train' : mean_squared_error(y_train, model.predict(X_train_rfe), squared = False),\n",
    "    'RMSE_validate' : mean_squared_error(y_validate, model.predict(X_validate_rfe), squared = False)\n",
    "}"
   ]
  },
  {
   "cell_type": "markdown",
   "id": "9af1102a-34d5-4c0c-9962-824177ba9a91",
   "metadata": {},
   "source": [
    "## Results"
   ]
  },
  {
   "cell_type": "code",
   "execution_count": 23,
   "id": "480b066c-33e2-45fa-8317-20ae52fd66e5",
   "metadata": {},
   "outputs": [
    {
     "data": {
      "text/html": [
       "<div>\n",
       "<style scoped>\n",
       "    .dataframe tbody tr th:only-of-type {\n",
       "        vertical-align: middle;\n",
       "    }\n",
       "\n",
       "    .dataframe tbody tr th {\n",
       "        vertical-align: top;\n",
       "    }\n",
       "\n",
       "    .dataframe thead th {\n",
       "        text-align: right;\n",
       "    }\n",
       "</style>\n",
       "<table border=\"1\" class=\"dataframe\">\n",
       "  <thead>\n",
       "    <tr style=\"text-align: right;\">\n",
       "      <th></th>\n",
       "      <th>RMSE_train</th>\n",
       "      <th>RMSE_validate</th>\n",
       "    </tr>\n",
       "  </thead>\n",
       "  <tbody>\n",
       "    <tr>\n",
       "      <th>baseline</th>\n",
       "      <td>9.584340</td>\n",
       "      <td>17.115481</td>\n",
       "    </tr>\n",
       "    <tr>\n",
       "      <th>linear regression</th>\n",
       "      <td>5.875694</td>\n",
       "      <td>12.532288</td>\n",
       "    </tr>\n",
       "    <tr>\n",
       "      <th>lasso lars</th>\n",
       "      <td>9.584340</td>\n",
       "      <td>17.115481</td>\n",
       "    </tr>\n",
       "    <tr>\n",
       "      <th>tweedie regressor</th>\n",
       "      <td>5.167301</td>\n",
       "      <td>10.806308</td>\n",
       "    </tr>\n",
       "    <tr>\n",
       "      <th>polynomial regression</th>\n",
       "      <td>5.875694</td>\n",
       "      <td>12.532288</td>\n",
       "    </tr>\n",
       "    <tr>\n",
       "      <th>polynomial regression interaction only</th>\n",
       "      <td>5.928869</td>\n",
       "      <td>12.630305</td>\n",
       "    </tr>\n",
       "  </tbody>\n",
       "</table>\n",
       "</div>"
      ],
      "text/plain": [
       "                                        RMSE_train  RMSE_validate\n",
       "baseline                                  9.584340      17.115481\n",
       "linear regression                         5.875694      12.532288\n",
       "lasso lars                                9.584340      17.115481\n",
       "tweedie regressor                         5.167301      10.806308\n",
       "polynomial regression                     5.875694      12.532288\n",
       "polynomial regression interaction only    5.928869      12.630305"
      ]
     },
     "execution_count": 23,
     "metadata": {},
     "output_type": "execute_result"
    }
   ],
   "source": [
    "pd.DataFrame(results).T"
   ]
  },
  {
   "cell_type": "code",
   "execution_count": 24,
   "id": "b46a5c8e-4604-4d76-be5a-3598ba868e5c",
   "metadata": {},
   "outputs": [
    {
     "data": {
      "text/plain": [
       "0.587062505042971"
      ]
     },
     "execution_count": 24,
     "metadata": {},
     "output_type": "execute_result"
    }
   ],
   "source": [
    "r2_score(y_validate, models['tweedie regressor'].predict(X_validate[['base', 'age', 'period', 'treatment_placebo']]))"
   ]
  },
  {
   "cell_type": "code",
   "execution_count": 25,
   "id": "22b9b974-041d-43db-99d7-86516875633a",
   "metadata": {},
   "outputs": [
    {
     "data": {
      "text/plain": [
       "0.4446197643699248"
      ]
     },
     "execution_count": 25,
     "metadata": {},
     "output_type": "execute_result"
    }
   ],
   "source": [
    "r2_score(y_validate, models['linear regression'].predict(X_validate[['base', 'age', 'period', 'treatment_placebo']]))"
   ]
  },
  {
   "cell_type": "code",
   "execution_count": 27,
   "id": "57261391-41db-4329-8d89-a1125c0b9606",
   "metadata": {},
   "outputs": [
    {
     "data": {
      "text/plain": [
       "0.8441519120719873"
      ]
     },
     "execution_count": 27,
     "metadata": {},
     "output_type": "execute_result"
    }
   ],
   "source": [
    "# How does the best model perform on test\n",
    "r2_score(y_test, models['tweedie regressor'].predict(X_test[['base', 'age', 'period', 'treatment_placebo']]))"
   ]
  },
  {
   "cell_type": "code",
   "execution_count": 29,
   "id": "9b58a009-84c3-48e9-870a-d0db54d75981",
   "metadata": {},
   "outputs": [
    {
     "data": {
      "text/plain": [
       "4.872431442114245"
      ]
     },
     "execution_count": 29,
     "metadata": {},
     "output_type": "execute_result"
    }
   ],
   "source": [
    "mean_squared_error(\n",
    "    y_test,\n",
    "    models['tweedie regressor'].predict(X_test[['base', 'age', 'period', 'treatment_placebo']]),\n",
    "    squared = False\n",
    ")"
   ]
  }
 ],
 "metadata": {
  "kernelspec": {
   "display_name": "Python 3 (ipykernel)",
   "language": "python",
   "name": "python3"
  },
  "language_info": {
   "codemirror_mode": {
    "name": "ipython",
    "version": 3
   },
   "file_extension": ".py",
   "mimetype": "text/x-python",
   "name": "python",
   "nbconvert_exporter": "python",
   "pygments_lexer": "ipython3",
   "version": "3.9.7"
  }
 },
 "nbformat": 4,
 "nbformat_minor": 5
}
