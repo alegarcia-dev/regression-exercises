{
 "cells": [
  {
   "cell_type": "code",
   "execution_count": 23,
   "id": "2ee13871-0f92-4c55-b9fd-3193d4e1cd34",
   "metadata": {},
   "outputs": [],
   "source": [
    "import numpy as np\n",
    "import pandas as pd\n",
    "import matplotlib.pyplot as plt\n",
    "import seaborn as sns\n",
    "\n",
    "from sklearn.model_selection import train_test_split\n",
    "\n",
    "from sklearn.linear_model import LinearRegression, LassoLars, TweedieRegressor\n",
    "from sklearn.preprocessing import PolynomialFeatures\n",
    "\n",
    "from sklearn.metrics import mean_squared_error, r2_score\n",
    "from sklearn.preprocessing import MinMaxScaler\n",
    "\n",
    "from sklearn.feature_selection import SelectKBest, RFE, f_regression\n",
    "\n",
    "from pydataset import data"
   ]
  },
  {
   "cell_type": "markdown",
   "id": "90de80eb-8dea-40eb-884b-835189cdd9f8",
   "metadata": {},
   "source": [
    "# Regression Model Exercises\n",
    "\n",
    "1. Select a dataset with a continuous target variable.\n",
    "\n",
    "2. Be sure your data is prepared (no missing values, numeric datatypes) and split into samples.\n",
    "\n",
    "3. Work through all of the steps outlined in the lesson, from setting the baseline to selected a model and evaluating the final model on your test data."
   ]
  },
  {
   "cell_type": "markdown",
   "id": "daef82ce-0dd8-4168-a4ff-b3c6a113b4a4",
   "metadata": {},
   "source": [
    "## Acquire and Prepare Data"
   ]
  },
  {
   "cell_type": "code",
   "execution_count": 21,
   "id": "e753787c-aa9b-4bf7-8f94-2c464b1b4940",
   "metadata": {},
   "outputs": [
    {
     "name": "stdout",
     "output_type": "stream",
     "text": [
      "<class 'pandas.core.frame.DataFrame'>\n",
      "Int64Index: 236 entries, 1 to 593\n",
      "Data columns (total 6 columns):\n",
      " #   Column        Non-Null Count  Dtype \n",
      "---  ------        --------------  ----- \n",
      " 0   treatment     236 non-null    object\n",
      " 1   base          236 non-null    int64 \n",
      " 2   age           236 non-null    int64 \n",
      " 3   seizure.rate  236 non-null    int64 \n",
      " 4   period        236 non-null    int64 \n",
      " 5   subject       236 non-null    int64 \n",
      "dtypes: int64(5), object(1)\n",
      "memory usage: 12.9+ KB\n"
     ]
    }
   ],
   "source": [
    "epilepsy = data('epilepsy')\n",
    "epilepsy.info()"
   ]
  },
  {
   "cell_type": "code",
   "execution_count": 22,
   "id": "f5199da5-9616-4418-b371-8d8009e6b449",
   "metadata": {},
   "outputs": [
    {
     "data": {
      "text/html": [
       "<div>\n",
       "<style scoped>\n",
       "    .dataframe tbody tr th:only-of-type {\n",
       "        vertical-align: middle;\n",
       "    }\n",
       "\n",
       "    .dataframe tbody tr th {\n",
       "        vertical-align: top;\n",
       "    }\n",
       "\n",
       "    .dataframe thead th {\n",
       "        text-align: right;\n",
       "    }\n",
       "</style>\n",
       "<table border=\"1\" class=\"dataframe\">\n",
       "  <thead>\n",
       "    <tr style=\"text-align: right;\">\n",
       "      <th></th>\n",
       "      <th>count</th>\n",
       "      <th>mean</th>\n",
       "      <th>std</th>\n",
       "      <th>min</th>\n",
       "      <th>25%</th>\n",
       "      <th>50%</th>\n",
       "      <th>75%</th>\n",
       "      <th>max</th>\n",
       "    </tr>\n",
       "  </thead>\n",
       "  <tbody>\n",
       "    <tr>\n",
       "      <th>base</th>\n",
       "      <td>236.0</td>\n",
       "      <td>31.220339</td>\n",
       "      <td>26.705051</td>\n",
       "      <td>6.0</td>\n",
       "      <td>12.00</td>\n",
       "      <td>22.0</td>\n",
       "      <td>41.00</td>\n",
       "      <td>151.0</td>\n",
       "    </tr>\n",
       "    <tr>\n",
       "      <th>age</th>\n",
       "      <td>236.0</td>\n",
       "      <td>28.338983</td>\n",
       "      <td>6.261290</td>\n",
       "      <td>18.0</td>\n",
       "      <td>23.00</td>\n",
       "      <td>28.0</td>\n",
       "      <td>32.00</td>\n",
       "      <td>42.0</td>\n",
       "    </tr>\n",
       "    <tr>\n",
       "      <th>seizure.rate</th>\n",
       "      <td>236.0</td>\n",
       "      <td>8.262712</td>\n",
       "      <td>12.356360</td>\n",
       "      <td>0.0</td>\n",
       "      <td>2.75</td>\n",
       "      <td>4.0</td>\n",
       "      <td>9.00</td>\n",
       "      <td>102.0</td>\n",
       "    </tr>\n",
       "    <tr>\n",
       "      <th>period</th>\n",
       "      <td>236.0</td>\n",
       "      <td>2.500000</td>\n",
       "      <td>1.120410</td>\n",
       "      <td>1.0</td>\n",
       "      <td>1.75</td>\n",
       "      <td>2.5</td>\n",
       "      <td>3.25</td>\n",
       "      <td>4.0</td>\n",
       "    </tr>\n",
       "    <tr>\n",
       "      <th>subject</th>\n",
       "      <td>236.0</td>\n",
       "      <td>30.000000</td>\n",
       "      <td>17.065581</td>\n",
       "      <td>1.0</td>\n",
       "      <td>15.00</td>\n",
       "      <td>30.0</td>\n",
       "      <td>45.00</td>\n",
       "      <td>59.0</td>\n",
       "    </tr>\n",
       "  </tbody>\n",
       "</table>\n",
       "</div>"
      ],
      "text/plain": [
       "              count       mean        std   min    25%   50%    75%    max\n",
       "base          236.0  31.220339  26.705051   6.0  12.00  22.0  41.00  151.0\n",
       "age           236.0  28.338983   6.261290  18.0  23.00  28.0  32.00   42.0\n",
       "seizure.rate  236.0   8.262712  12.356360   0.0   2.75   4.0   9.00  102.0\n",
       "period        236.0   2.500000   1.120410   1.0   1.75   2.5   3.25    4.0\n",
       "subject       236.0  30.000000  17.065581   1.0  15.00  30.0  45.00   59.0"
      ]
     },
     "execution_count": 22,
     "metadata": {},
     "output_type": "execute_result"
    }
   ],
   "source": [
    "epilepsy.describe().T"
   ]
  },
  {
   "cell_type": "code",
   "execution_count": 24,
   "id": "9abb16be-85a9-4631-a5e7-7fd5f8deaa6e",
   "metadata": {},
   "outputs": [],
   "source": [
    "epilepsy = epilepsy.rename(columns = {'seizure.rate' : 'seizure_rate'})"
   ]
  },
  {
   "cell_type": "code",
   "execution_count": 25,
   "id": "e0f002e0-6e4d-4af6-9d77-3f15518a753f",
   "metadata": {},
   "outputs": [
    {
     "name": "stdout",
     "output_type": "stream",
     "text": [
      "<class 'pandas.core.frame.DataFrame'>\n",
      "Int64Index: 236 entries, 1 to 593\n",
      "Data columns (total 6 columns):\n",
      " #   Column        Non-Null Count  Dtype \n",
      "---  ------        --------------  ----- \n",
      " 0   treatment     236 non-null    object\n",
      " 1   base          236 non-null    int64 \n",
      " 2   age           236 non-null    int64 \n",
      " 3   seizure_rate  236 non-null    int64 \n",
      " 4   period        236 non-null    int64 \n",
      " 5   subject       236 non-null    int64 \n",
      "dtypes: int64(5), object(1)\n",
      "memory usage: 12.9+ KB\n"
     ]
    }
   ],
   "source": [
    "epilepsy.info()"
   ]
  },
  {
   "cell_type": "code",
   "execution_count": 27,
   "id": "cc668db1-2f39-4983-b0c6-16c84f1371a5",
   "metadata": {},
   "outputs": [
    {
     "name": "stdout",
     "output_type": "stream",
     "text": [
      "<class 'pandas.core.frame.DataFrame'>\n",
      "Int64Index: 236 entries, 1 to 593\n",
      "Data columns (total 7 columns):\n",
      " #   Column               Non-Null Count  Dtype\n",
      "---  ------               --------------  -----\n",
      " 0   base                 236 non-null    int64\n",
      " 1   age                  236 non-null    int64\n",
      " 2   seizure_rate         236 non-null    int64\n",
      " 3   period               236 non-null    int64\n",
      " 4   subject              236 non-null    int64\n",
      " 5   treatment_Progabide  236 non-null    uint8\n",
      " 6   treatment_placebo    236 non-null    uint8\n",
      "dtypes: int64(5), uint8(2)\n",
      "memory usage: 11.5 KB\n"
     ]
    }
   ],
   "source": [
    "dummy_df = pd.get_dummies(epilepsy[['treatment']], dummy_na = False, drop_first = False)\n",
    "epilepsy = pd.concat([epilepsy, dummy_df], axis = 1)\n",
    "epilepsy = epilepsy.drop(columns = 'treatment')\n",
    "epilepsy.info()"
   ]
  },
  {
   "cell_type": "markdown",
   "id": "af841d19-e4fb-4264-911a-f0020579b67e",
   "metadata": {},
   "source": [
    "## Split Data"
   ]
  },
  {
   "cell_type": "code",
   "execution_count": 28,
   "id": "dbdb0b81-c5e9-4d66-9105-60dabb459c53",
   "metadata": {},
   "outputs": [],
   "source": [
    "train_val, test = train_test_split(epilepsy, test_size = 0.2)\n",
    "train, validate = train_test_split(train_val, test_size = 0.3)"
   ]
  },
  {
   "cell_type": "code",
   "execution_count": 29,
   "id": "0b5de104-fe85-4160-a9dd-8ab536021905",
   "metadata": {},
   "outputs": [],
   "source": [
    "X_train, y_train = train.drop(columns = 'seizure_rate'), train[['seizure_rate']]\n",
    "X_validate, y_validate = validate.drop(columns = 'seizure_rate'), validate[['seizure_rate']]\n",
    "X_test, y_test = test.drop(columns = 'seizure_rate'), test[['seizure_rate']]"
   ]
  },
  {
   "cell_type": "markdown",
   "id": "3a094003-241a-4bc3-9387-d20af3c5af30",
   "metadata": {},
   "source": [
    "## "
   ]
  }
 ],
 "metadata": {
  "kernelspec": {
   "display_name": "Python 3 (ipykernel)",
   "language": "python",
   "name": "python3"
  },
  "language_info": {
   "codemirror_mode": {
    "name": "ipython",
    "version": 3
   },
   "file_extension": ".py",
   "mimetype": "text/x-python",
   "name": "python",
   "nbconvert_exporter": "python",
   "pygments_lexer": "ipython3",
   "version": "3.9.7"
  }
 },
 "nbformat": 4,
 "nbformat_minor": 5
}
