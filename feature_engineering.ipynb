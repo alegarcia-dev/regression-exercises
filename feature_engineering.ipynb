{
 "cells": [
  {
   "cell_type": "code",
   "execution_count": 1,
   "id": "70dc025a-45d3-4158-a2f6-5586686c7e1e",
   "metadata": {},
   "outputs": [],
   "source": [
    "import numpy as np\n",
    "import pandas as pd\n",
    "\n",
    "from sklearn.linear_model import LinearRegression\n",
    "from sklearn.model_selection import train_test_split\n",
    "\n",
    "from sklearn.feature_selection import SelectKBest, RFE, f_regression, SequentialFeatureSelector\n",
    "from sklearn.preprocessing import MinMaxScaler\n",
    "\n",
    "from pydataset import data"
   ]
  },
  {
   "cell_type": "markdown",
   "id": "53575a4e-2d25-4e7a-8cf2-af36e6e8cb54",
   "metadata": {},
   "source": [
    "# Feature Engineering Exercises"
   ]
  },
  {
   "cell_type": "markdown",
   "id": "7cae061b-9c09-48bd-9613-24490b1efd1e",
   "metadata": {},
   "source": [
    "## 1\n",
    "\n",
    "Load the tips dataset."
   ]
  },
  {
   "cell_type": "code",
   "execution_count": 2,
   "id": "76fdc2e3-42b7-4ce3-b125-a80cb255fae3",
   "metadata": {},
   "outputs": [],
   "source": [
    "tips = data('tips')"
   ]
  },
  {
   "cell_type": "markdown",
   "id": "70965d06-fe71-40ad-b9e1-460153f27032",
   "metadata": {},
   "source": [
    "### a\n",
    "\n",
    "Create a column named price_per_person. This should be the total bill divided by the party size."
   ]
  },
  {
   "cell_type": "code",
   "execution_count": 3,
   "id": "39fcac7b-b8d2-4e8d-a027-ed5c8d26d705",
   "metadata": {},
   "outputs": [
    {
     "name": "stdout",
     "output_type": "stream",
     "text": [
      "<class 'pandas.core.frame.DataFrame'>\n",
      "Int64Index: 244 entries, 1 to 244\n",
      "Data columns (total 7 columns):\n",
      " #   Column      Non-Null Count  Dtype  \n",
      "---  ------      --------------  -----  \n",
      " 0   total_bill  244 non-null    float64\n",
      " 1   tip         244 non-null    float64\n",
      " 2   sex         244 non-null    object \n",
      " 3   smoker      244 non-null    object \n",
      " 4   day         244 non-null    object \n",
      " 5   time        244 non-null    object \n",
      " 6   size        244 non-null    int64  \n",
      "dtypes: float64(2), int64(1), object(4)\n",
      "memory usage: 15.2+ KB\n"
     ]
    }
   ],
   "source": [
    "tips.info()"
   ]
  },
  {
   "cell_type": "code",
   "execution_count": 4,
   "id": "d1ff459d-7dbb-4cf9-ac45-a2df99311527",
   "metadata": {},
   "outputs": [],
   "source": [
    "tips['price_per_person'] = tips['total_bill'] / tips['size']"
   ]
  },
  {
   "cell_type": "code",
   "execution_count": 5,
   "id": "08da7a3f-9027-4c88-8130-6d389f0a1ea3",
   "metadata": {},
   "outputs": [
    {
     "data": {
      "text/html": [
       "<div>\n",
       "<style scoped>\n",
       "    .dataframe tbody tr th:only-of-type {\n",
       "        vertical-align: middle;\n",
       "    }\n",
       "\n",
       "    .dataframe tbody tr th {\n",
       "        vertical-align: top;\n",
       "    }\n",
       "\n",
       "    .dataframe thead th {\n",
       "        text-align: right;\n",
       "    }\n",
       "</style>\n",
       "<table border=\"1\" class=\"dataframe\">\n",
       "  <thead>\n",
       "    <tr style=\"text-align: right;\">\n",
       "      <th></th>\n",
       "      <th>total_bill</th>\n",
       "      <th>tip</th>\n",
       "      <th>sex</th>\n",
       "      <th>smoker</th>\n",
       "      <th>day</th>\n",
       "      <th>time</th>\n",
       "      <th>size</th>\n",
       "      <th>price_per_person</th>\n",
       "    </tr>\n",
       "  </thead>\n",
       "  <tbody>\n",
       "    <tr>\n",
       "      <th>1</th>\n",
       "      <td>16.99</td>\n",
       "      <td>1.01</td>\n",
       "      <td>Female</td>\n",
       "      <td>No</td>\n",
       "      <td>Sun</td>\n",
       "      <td>Dinner</td>\n",
       "      <td>2</td>\n",
       "      <td>8.495000</td>\n",
       "    </tr>\n",
       "    <tr>\n",
       "      <th>2</th>\n",
       "      <td>10.34</td>\n",
       "      <td>1.66</td>\n",
       "      <td>Male</td>\n",
       "      <td>No</td>\n",
       "      <td>Sun</td>\n",
       "      <td>Dinner</td>\n",
       "      <td>3</td>\n",
       "      <td>3.446667</td>\n",
       "    </tr>\n",
       "    <tr>\n",
       "      <th>3</th>\n",
       "      <td>21.01</td>\n",
       "      <td>3.50</td>\n",
       "      <td>Male</td>\n",
       "      <td>No</td>\n",
       "      <td>Sun</td>\n",
       "      <td>Dinner</td>\n",
       "      <td>3</td>\n",
       "      <td>7.003333</td>\n",
       "    </tr>\n",
       "    <tr>\n",
       "      <th>4</th>\n",
       "      <td>23.68</td>\n",
       "      <td>3.31</td>\n",
       "      <td>Male</td>\n",
       "      <td>No</td>\n",
       "      <td>Sun</td>\n",
       "      <td>Dinner</td>\n",
       "      <td>2</td>\n",
       "      <td>11.840000</td>\n",
       "    </tr>\n",
       "    <tr>\n",
       "      <th>5</th>\n",
       "      <td>24.59</td>\n",
       "      <td>3.61</td>\n",
       "      <td>Female</td>\n",
       "      <td>No</td>\n",
       "      <td>Sun</td>\n",
       "      <td>Dinner</td>\n",
       "      <td>4</td>\n",
       "      <td>6.147500</td>\n",
       "    </tr>\n",
       "  </tbody>\n",
       "</table>\n",
       "</div>"
      ],
      "text/plain": [
       "   total_bill   tip     sex smoker  day    time  size  price_per_person\n",
       "1       16.99  1.01  Female     No  Sun  Dinner     2          8.495000\n",
       "2       10.34  1.66    Male     No  Sun  Dinner     3          3.446667\n",
       "3       21.01  3.50    Male     No  Sun  Dinner     3          7.003333\n",
       "4       23.68  3.31    Male     No  Sun  Dinner     2         11.840000\n",
       "5       24.59  3.61  Female     No  Sun  Dinner     4          6.147500"
      ]
     },
     "execution_count": 5,
     "metadata": {},
     "output_type": "execute_result"
    }
   ],
   "source": [
    "tips.head()"
   ]
  },
  {
   "cell_type": "markdown",
   "id": "cddb8b4c-0b8e-4d86-b311-d20d8243ce8e",
   "metadata": {},
   "source": [
    "### b\n",
    "\n",
    "Before using any of the methods discussed in the lesson, which features do you think would be most important for predicting the tip amount?"
   ]
  },
  {
   "cell_type": "markdown",
   "id": "2a08a2b8-d108-4a4b-91f2-729fae02c1ad",
   "metadata": {},
   "source": [
    "I think total bill and party size would be the most important features for predicting tip amount."
   ]
  },
  {
   "cell_type": "markdown",
   "id": "6dcb309f-e85a-4271-9ea6-ba9d40755e79",
   "metadata": {},
   "source": [
    "### c\n",
    "\n",
    "Use select k best to select the top 2 features for predicting tip amount. What are they?"
   ]
  },
  {
   "cell_type": "code",
   "execution_count": 6,
   "id": "dafe29ae-d582-434e-bac7-9ce42009840b",
   "metadata": {},
   "outputs": [],
   "source": [
    "tips.sex = tips.sex.map({'Male' : 0, 'Female' : 1})\n",
    "tips.smoker = tips.smoker.map({'No' : 0, 'Yes' : 1})\n",
    "tips.day = tips.day.map({'Thur' : 0, 'Fri' : 1, 'Sat' : 2, 'Sun' : 3})\n",
    "tips.time = tips.time.map({'Lunch' : 0, 'Dinner' : 1})"
   ]
  },
  {
   "cell_type": "code",
   "execution_count": 7,
   "id": "70041942-26e9-4b45-901b-136e85bd6c6d",
   "metadata": {},
   "outputs": [
    {
     "name": "stderr",
     "output_type": "stream",
     "text": [
      "/opt/homebrew/anaconda3/lib/python3.9/site-packages/pandas/core/frame.py:3678: SettingWithCopyWarning: \n",
      "A value is trying to be set on a copy of a slice from a DataFrame.\n",
      "Try using .loc[row_indexer,col_indexer] = value instead\n",
      "\n",
      "See the caveats in the documentation: https://pandas.pydata.org/pandas-docs/stable/user_guide/indexing.html#returning-a-view-versus-a-copy\n",
      "  self[col] = igetitem(value, i)\n",
      "/opt/homebrew/anaconda3/lib/python3.9/site-packages/pandas/core/frame.py:3678: SettingWithCopyWarning: \n",
      "A value is trying to be set on a copy of a slice from a DataFrame.\n",
      "Try using .loc[row_indexer,col_indexer] = value instead\n",
      "\n",
      "See the caveats in the documentation: https://pandas.pydata.org/pandas-docs/stable/user_guide/indexing.html#returning-a-view-versus-a-copy\n",
      "  self[col] = igetitem(value, i)\n",
      "/opt/homebrew/anaconda3/lib/python3.9/site-packages/pandas/core/frame.py:3678: SettingWithCopyWarning: \n",
      "A value is trying to be set on a copy of a slice from a DataFrame.\n",
      "Try using .loc[row_indexer,col_indexer] = value instead\n",
      "\n",
      "See the caveats in the documentation: https://pandas.pydata.org/pandas-docs/stable/user_guide/indexing.html#returning-a-view-versus-a-copy\n",
      "  self[col] = igetitem(value, i)\n"
     ]
    }
   ],
   "source": [
    "train_validate, test = train_test_split(tips, test_size = 0.2)\n",
    "train, validate = train_test_split(train_validate, test_size = 0.3)\n",
    "\n",
    "scaler = MinMaxScaler()\n",
    "\n",
    "columns = train.drop(columns = 'tip').columns\n",
    "\n",
    "train[columns] = scaler.fit_transform(train[columns])\n",
    "validate[columns] = scaler.transform(validate[columns])\n",
    "test[columns] = scaler.transform(test[columns])"
   ]
  },
  {
   "cell_type": "code",
   "execution_count": 8,
   "id": "1912697d-482f-4715-9e9b-3d60f60f4f68",
   "metadata": {},
   "outputs": [
    {
     "data": {
      "text/plain": [
       "SelectKBest(k=2, score_func=<function f_regression at 0x7f7c11054b80>)"
      ]
     },
     "execution_count": 8,
     "metadata": {},
     "output_type": "execute_result"
    }
   ],
   "source": [
    "kbest = SelectKBest(f_regression, k = 2)\n",
    "kbest.fit(train.drop(columns = 'tip'), train.tip)"
   ]
  },
  {
   "cell_type": "code",
   "execution_count": 9,
   "id": "244be4da-418c-4bb0-af25-c1922705a350",
   "metadata": {},
   "outputs": [
    {
     "data": {
      "text/plain": [
       "Index(['total_bill', 'size'], dtype='object')"
      ]
     },
     "execution_count": 9,
     "metadata": {},
     "output_type": "execute_result"
    }
   ],
   "source": [
    "train.drop(columns = 'tip').columns[kbest.get_support()]"
   ]
  },
  {
   "cell_type": "markdown",
   "id": "fa8d33d3-6cf1-4904-993f-54cf87c524c1",
   "metadata": {},
   "source": [
    "### d\n",
    "\n",
    "Use recursive feature elimination to select the top 2 features for tip amount. What are they?"
   ]
  },
  {
   "cell_type": "code",
   "execution_count": 10,
   "id": "5c2a632f-9453-43ca-88be-311eecde3b33",
   "metadata": {},
   "outputs": [
    {
     "data": {
      "text/plain": [
       "RFE(estimator=LinearRegression(), n_features_to_select=2)"
      ]
     },
     "execution_count": 10,
     "metadata": {},
     "output_type": "execute_result"
    }
   ],
   "source": [
    "model = LinearRegression()\n",
    "rfe = RFE(model, n_features_to_select = 2)\n",
    "rfe.fit(train.drop(columns = 'tip'), train.tip)"
   ]
  },
  {
   "cell_type": "code",
   "execution_count": 11,
   "id": "b0820d4f-4dcb-4235-850d-1bc64a59e8e9",
   "metadata": {},
   "outputs": [
    {
     "data": {
      "text/html": [
       "<div>\n",
       "<style scoped>\n",
       "    .dataframe tbody tr th:only-of-type {\n",
       "        vertical-align: middle;\n",
       "    }\n",
       "\n",
       "    .dataframe tbody tr th {\n",
       "        vertical-align: top;\n",
       "    }\n",
       "\n",
       "    .dataframe thead th {\n",
       "        text-align: right;\n",
       "    }\n",
       "</style>\n",
       "<table border=\"1\" class=\"dataframe\">\n",
       "  <thead>\n",
       "    <tr style=\"text-align: right;\">\n",
       "      <th></th>\n",
       "      <th>rfe_ranking</th>\n",
       "    </tr>\n",
       "  </thead>\n",
       "  <tbody>\n",
       "    <tr>\n",
       "      <th>total_bill</th>\n",
       "      <td>1</td>\n",
       "    </tr>\n",
       "    <tr>\n",
       "      <th>sex</th>\n",
       "      <td>6</td>\n",
       "    </tr>\n",
       "    <tr>\n",
       "      <th>smoker</th>\n",
       "      <td>4</td>\n",
       "    </tr>\n",
       "    <tr>\n",
       "      <th>day</th>\n",
       "      <td>5</td>\n",
       "    </tr>\n",
       "    <tr>\n",
       "      <th>time</th>\n",
       "      <td>3</td>\n",
       "    </tr>\n",
       "    <tr>\n",
       "      <th>size</th>\n",
       "      <td>2</td>\n",
       "    </tr>\n",
       "    <tr>\n",
       "      <th>price_per_person</th>\n",
       "      <td>1</td>\n",
       "    </tr>\n",
       "  </tbody>\n",
       "</table>\n",
       "</div>"
      ],
      "text/plain": [
       "                  rfe_ranking\n",
       "total_bill                  1\n",
       "sex                         6\n",
       "smoker                      4\n",
       "day                         5\n",
       "time                        3\n",
       "size                        2\n",
       "price_per_person            1"
      ]
     },
     "execution_count": 11,
     "metadata": {},
     "output_type": "execute_result"
    }
   ],
   "source": [
    "pd.DataFrame({'rfe_ranking': rfe.ranking_}, index=train.drop(columns = 'tip').columns)"
   ]
  },
  {
   "cell_type": "code",
   "execution_count": 12,
   "id": "af95cc28-2644-4f1e-8a20-002c3af14a38",
   "metadata": {},
   "outputs": [
    {
     "data": {
      "text/plain": [
       "Index(['total_bill', 'price_per_person'], dtype='object')"
      ]
     },
     "execution_count": 12,
     "metadata": {},
     "output_type": "execute_result"
    }
   ],
   "source": [
    "train.drop(columns = 'tip').columns[rfe.get_support()]"
   ]
  },
  {
   "cell_type": "markdown",
   "id": "e739723f-188b-4c4b-b280-bd064effa1a1",
   "metadata": {},
   "source": [
    "### e\n",
    "\n",
    "Why do you think select k best and recursive feature elimination might give different answers for the top features?"
   ]
  },
  {
   "cell_type": "markdown",
   "id": "546a8429-7abe-4bed-9f36-7ddbe2f0f04d",
   "metadata": {},
   "source": [
    "RFE probably gives a different answer because it uses an actual regression model to determine which features are most important whereas select k best uses statistical testing."
   ]
  },
  {
   "cell_type": "markdown",
   "id": "c199a408-eec2-40d8-a653-bbe8e7cbf82c",
   "metadata": {},
   "source": [
    "Does this change as you change the number of features your are selecting?"
   ]
  },
  {
   "cell_type": "code",
   "execution_count": 13,
   "id": "0e7868c6-1917-42b4-a4e7-f49b2d2aa4bd",
   "metadata": {},
   "outputs": [
    {
     "data": {
      "text/plain": [
       "Index(['total_bill', 'size', 'price_per_person'], dtype='object')"
      ]
     },
     "execution_count": 13,
     "metadata": {},
     "output_type": "execute_result"
    }
   ],
   "source": [
    "kbest = SelectKBest(f_regression, k = 3)\n",
    "kbest.fit(train.drop(columns = 'tip'), train.tip)\n",
    "train.drop(columns = 'tip').columns[kbest.get_support()]"
   ]
  },
  {
   "cell_type": "code",
   "execution_count": 14,
   "id": "b8158a93-8a3c-436f-8103-50763a943a31",
   "metadata": {},
   "outputs": [
    {
     "data": {
      "text/plain": [
       "Index(['total_bill', 'size', 'price_per_person'], dtype='object')"
      ]
     },
     "execution_count": 14,
     "metadata": {},
     "output_type": "execute_result"
    }
   ],
   "source": [
    "rfe = RFE(model, n_features_to_select = 3)\n",
    "rfe.fit(train.drop(columns = 'tip'), train.tip)\n",
    "train.drop(columns = 'tip').columns[rfe.get_support()]"
   ]
  },
  {
   "cell_type": "markdown",
   "id": "58ce4e6e-83d5-4180-9db6-f5a4fe308f98",
   "metadata": {},
   "source": [
    "They both select the same features when selecting the top 3."
   ]
  },
  {
   "cell_type": "code",
   "execution_count": 15,
   "id": "ca0bf3b6-aee4-4fde-a987-e5e151997ac3",
   "metadata": {},
   "outputs": [
    {
     "data": {
      "text/plain": [
       "Index(['total_bill', 'time', 'size', 'price_per_person'], dtype='object')"
      ]
     },
     "execution_count": 15,
     "metadata": {},
     "output_type": "execute_result"
    }
   ],
   "source": [
    "kbest = SelectKBest(f_regression, k = 4)\n",
    "kbest.fit(train.drop(columns = 'tip'), train.tip)\n",
    "train.drop(columns = 'tip').columns[kbest.get_support()]"
   ]
  },
  {
   "cell_type": "code",
   "execution_count": 16,
   "id": "08ef6f29-0b83-4957-b95b-664a49d9903e",
   "metadata": {},
   "outputs": [
    {
     "data": {
      "text/plain": [
       "Index(['total_bill', 'time', 'size', 'price_per_person'], dtype='object')"
      ]
     },
     "execution_count": 16,
     "metadata": {},
     "output_type": "execute_result"
    }
   ],
   "source": [
    "rfe = RFE(model, n_features_to_select = 4)\n",
    "rfe.fit(train.drop(columns = 'tip'), train.tip)\n",
    "train.drop(columns = 'tip').columns[rfe.get_support()]"
   ]
  },
  {
   "cell_type": "markdown",
   "id": "1d2e5566-4aaa-4a7d-afed-ad30b87ed57d",
   "metadata": {},
   "source": [
    "They both select the same features when selecting the top 4."
   ]
  },
  {
   "cell_type": "markdown",
   "id": "a89c16f5-514a-443a-9e02-bc172b763d36",
   "metadata": {},
   "source": [
    "## 2\n",
    "\n",
    "Write a function named select_kbest that takes in the predictors (X), the target (y), and the number of features to select (k) and returns the names of the top k selected features based on the SelectKBest class. Test your function with the tips dataset. You should see the same results as when you did the process manually."
   ]
  },
  {
   "cell_type": "code",
   "execution_count": 17,
   "id": "222b3b69-161c-4015-b219-b416aec99663",
   "metadata": {},
   "outputs": [],
   "source": [
    "def select_kbest(X, y, k):\n",
    "    kbest = SelectKBest(f_regression, k = k)\n",
    "    kbest.fit(X, y)\n",
    "    return list(X.columns[kbest.get_support()])"
   ]
  },
  {
   "cell_type": "code",
   "execution_count": 18,
   "id": "9212f58c-e630-4106-8fec-21d84b635b0b",
   "metadata": {},
   "outputs": [
    {
     "data": {
      "text/plain": [
       "['total_bill', 'size']"
      ]
     },
     "execution_count": 18,
     "metadata": {},
     "output_type": "execute_result"
    }
   ],
   "source": [
    "select_kbest(train.drop(columns = 'tip'), train.tip, 2)"
   ]
  },
  {
   "cell_type": "markdown",
   "id": "d4f99023-0594-4592-beaf-e8e8879670e4",
   "metadata": {},
   "source": [
    "## 3\n",
    "\n",
    "Write a function named rfe that takes in the predictors, the target, and the number of features to select. It should return the top k features based on the RFE class. Test your function with the tips dataset. You should see the same results as when you did the process manually."
   ]
  },
  {
   "cell_type": "code",
   "execution_count": 19,
   "id": "860cae89-14ae-4480-a95a-2b91e03c459b",
   "metadata": {},
   "outputs": [],
   "source": [
    "def rfe(X, y, k):\n",
    "    model = LinearRegression()\n",
    "    rfe = RFE(model, n_features_to_select = k)\n",
    "    rfe.fit(X, y)\n",
    "    return list(X.columns[rfe.get_support()])"
   ]
  },
  {
   "cell_type": "code",
   "execution_count": 20,
   "id": "b03bb41d-8e50-4de3-8d63-3eed8ad3fded",
   "metadata": {},
   "outputs": [
    {
     "data": {
      "text/plain": [
       "['total_bill', 'price_per_person']"
      ]
     },
     "execution_count": 20,
     "metadata": {},
     "output_type": "execute_result"
    }
   ],
   "source": [
    "rfe(train.drop(columns = 'tip'), train.tip, 2)"
   ]
  },
  {
   "cell_type": "markdown",
   "id": "567edb00-dc9b-49ec-ac98-37597c3b381c",
   "metadata": {},
   "source": [
    "## 4\n",
    "\n",
    "Load the swiss dataset and use all the other features to predict Fertility. Find the top 3 features using both select k best and recursive feature elimination (use the functions you just built to help you out)."
   ]
  },
  {
   "cell_type": "code",
   "execution_count": 21,
   "id": "b484a79c-b95d-471d-a41f-53465ca202ea",
   "metadata": {},
   "outputs": [
    {
     "name": "stdout",
     "output_type": "stream",
     "text": [
      "<class 'pandas.core.frame.DataFrame'>\n",
      "Index: 47 entries, Courtelary to Rive Gauche\n",
      "Data columns (total 6 columns):\n",
      " #   Column            Non-Null Count  Dtype  \n",
      "---  ------            --------------  -----  \n",
      " 0   Fertility         47 non-null     float64\n",
      " 1   Agriculture       47 non-null     float64\n",
      " 2   Examination       47 non-null     int64  \n",
      " 3   Education         47 non-null     int64  \n",
      " 4   Catholic          47 non-null     float64\n",
      " 5   Infant.Mortality  47 non-null     float64\n",
      "dtypes: float64(4), int64(2)\n",
      "memory usage: 2.6+ KB\n"
     ]
    }
   ],
   "source": [
    "swiss = data('swiss')\n",
    "swiss.info()"
   ]
  },
  {
   "cell_type": "code",
   "execution_count": 22,
   "id": "84bc718d-698a-4538-8b77-724c558a71fd",
   "metadata": {},
   "outputs": [],
   "source": [
    "train_validate, test = train_test_split(swiss, test_size = 0.2)\n",
    "train, validate = train_test_split(train_validate, test_size = 0.3)"
   ]
  },
  {
   "cell_type": "code",
   "execution_count": 23,
   "id": "af73bfb0-edc8-44fc-8c76-7f413e79302c",
   "metadata": {},
   "outputs": [
    {
     "data": {
      "text/plain": [
       "['Examination', 'Education', 'Catholic']"
      ]
     },
     "execution_count": 23,
     "metadata": {},
     "output_type": "execute_result"
    }
   ],
   "source": [
    "select_kbest(train.drop(columns = 'Fertility'), train.Fertility, 3)"
   ]
  },
  {
   "cell_type": "code",
   "execution_count": 24,
   "id": "f93b7691-ef6f-4185-963a-6883cfc6aa30",
   "metadata": {},
   "outputs": [
    {
     "data": {
      "text/plain": [
       "['Examination', 'Education', 'Infant.Mortality']"
      ]
     },
     "execution_count": 24,
     "metadata": {},
     "output_type": "execute_result"
    }
   ],
   "source": [
    "rfe(train.drop(columns = 'Fertility'), train.Fertility, 3)"
   ]
  }
 ],
 "metadata": {
  "kernelspec": {
   "display_name": "Python 3 (ipykernel)",
   "language": "python",
   "name": "python3"
  },
  "language_info": {
   "codemirror_mode": {
    "name": "ipython",
    "version": 3
   },
   "file_extension": ".py",
   "mimetype": "text/x-python",
   "name": "python",
   "nbconvert_exporter": "python",
   "pygments_lexer": "ipython3",
   "version": "3.9.7"
  }
 },
 "nbformat": 4,
 "nbformat_minor": 5
}
