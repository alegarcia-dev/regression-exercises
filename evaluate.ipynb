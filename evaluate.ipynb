{
 "cells": [
  {
   "cell_type": "code",
   "execution_count": 1,
   "id": "dc50e4e6-289f-4e70-9099-fc49ac50ca45",
   "metadata": {},
   "outputs": [],
   "source": [
    "import numpy as np\n",
    "import pandas as pd\n",
    "import matplotlib.pyplot as plt\n",
    "import seaborn as sns\n",
    "\n",
    "from pydataset import data"
   ]
  },
  {
   "cell_type": "markdown",
   "id": "6ac6d69f-34dd-43f3-808f-a0941005a422",
   "metadata": {},
   "source": [
    "# Regression Evaluation Exercises\n",
    "\n",
    "## 1\n",
    "\n",
    "Load the tips dataset from either pydataset or seaborn."
   ]
  },
  {
   "cell_type": "code",
   "execution_count": 2,
   "id": "16c7fd33-c918-42d9-9d61-9bd31ad1c793",
   "metadata": {},
   "outputs": [
    {
     "name": "stdout",
     "output_type": "stream",
     "text": [
      "<class 'pandas.core.frame.DataFrame'>\n",
      "Int64Index: 244 entries, 1 to 244\n",
      "Data columns (total 7 columns):\n",
      " #   Column      Non-Null Count  Dtype  \n",
      "---  ------      --------------  -----  \n",
      " 0   total_bill  244 non-null    float64\n",
      " 1   tip         244 non-null    float64\n",
      " 2   sex         244 non-null    object \n",
      " 3   smoker      244 non-null    object \n",
      " 4   day         244 non-null    object \n",
      " 5   time        244 non-null    object \n",
      " 6   size        244 non-null    int64  \n",
      "dtypes: float64(2), int64(1), object(4)\n",
      "memory usage: 15.2+ KB\n"
     ]
    }
   ],
   "source": [
    "tips = data('tips')\n",
    "tips.info()"
   ]
  },
  {
   "cell_type": "markdown",
   "id": "60b66edb-fe86-447a-a7c1-d4e5dff3546d",
   "metadata": {},
   "source": [
    "## 2\n",
    "\n",
    "Fit a linear regression model (ordinary least squares) and compute yhat, predictions of tip using total_bill."
   ]
  },
  {
   "cell_type": "code",
   "execution_count": 3,
   "id": "15ff9771-556d-4ba5-9ee0-c58173894930",
   "metadata": {},
   "outputs": [],
   "source": [
    "from sklearn.linear_model import LinearRegression\n",
    "\n",
    "# Who needs to split data?\n",
    "X = tips[['total_bill']]\n",
    "y = tips['tip']\n",
    "\n",
    "# assuming X and y are already defined\n",
    "model = LinearRegression().fit(X, y)\n",
    "predictions = model.predict(X)"
   ]
  },
  {
   "cell_type": "code",
   "execution_count": 4,
   "id": "9f02a14b-27eb-4f93-bf9b-76c11bd9b2eb",
   "metadata": {},
   "outputs": [
    {
     "data": {
      "text/plain": [
       "array([2.70463616, 2.00622312, 3.12683472, 3.40725019, 3.5028225 ,\n",
       "       3.57633966, 1.84133463, 3.74332864, 2.49983836, 2.47253198,\n",
       "       1.99887141, 4.6234341 , 2.53974767, 2.85587147, 2.47778321,\n",
       "       3.1866987 , 2.00517288, 2.631119  , 2.70253567, 3.0890259 ,\n",
       "       2.80230897, 3.05121707, 2.57650625, 5.06033609, 3.00185555,\n",
       "       2.79075627, 2.32444741, 2.25303074, 3.19930164, 2.98400138,\n",
       "       1.92325375, 2.84746951, 2.50193885, 3.09322688, 2.78760553,\n",
       "       3.4471595 , 2.63321949, 2.69833469, 2.88317784, 4.20438627,\n",
       "       2.60486287, 2.75399769, 2.38431139, 1.93690694, 4.11301494,\n",
       "       2.84116804, 3.25496464, 4.32306398, 3.91871958, 2.81491191,\n",
       "       2.23727706, 2.0009719 , 4.57617306, 1.96421332, 3.60469628,\n",
       "       2.96719746, 4.91225152, 3.69396712, 2.10074519, 5.98980307,\n",
       "       3.05121707, 2.3706582 , 2.0776398 , 2.84116804, 2.76765087,\n",
       "       3.02916192, 2.64792292, 1.24269488, 3.0449156 , 2.49668762,\n",
       "       2.18266431, 2.71303813, 3.74122815, 3.57528941, 2.46728075,\n",
       "       2.02407729, 2.80230897, 3.77693649, 3.31062763, 2.73614352,\n",
       "       2.96194623, 2.66997807, 1.9778665 , 4.35247084, 2.5985614 ,\n",
       "       4.57827355, 2.28873908, 2.84011779, 3.51542544, 3.1425884 ,\n",
       "       3.96282988, 3.28227101, 1.52416059, 2.63426974, 3.30957738,\n",
       "       5.13910448, 3.78533845, 2.18371456, 3.12683472, 2.2288751 ,\n",
       "       2.11229789, 2.53554669, 5.57285573, 3.27491929, 3.11738252,\n",
       "       2.5334462 , 3.07222197, 3.5679377 , 2.83591681, 2.42317046,\n",
       "       2.39061286, 1.68169736, 4.91855299, 3.4356068 , 3.62044996,\n",
       "       2.73824401, 4.06365342, 2.03878072, 2.22572436, 3.44925999,\n",
       "       2.14800622, 2.32969864, 2.41791923, 2.59541067, 2.23097559,\n",
       "       4.05000023, 1.8150785 , 2.44522561, 2.11544862, 3.3169291 ,\n",
       "       2.92413741, 3.04911658, 2.09339347, 2.2078702 , 2.8380173 ,\n",
       "       1.81402826, 2.00517288, 2.40636653, 2.60066189, 2.30239226,\n",
       "       2.75504793, 4.52261056, 5.24622948, 3.76118281, 2.64582243,\n",
       "       1.79722433, 2.87792662, 2.16691063, 1.94740939, 1.70900374,\n",
       "       2.39796457, 2.29924153, 2.73299278, 3.49862152, 2.99660432,\n",
       "       4.05525146, 5.97930062, 3.54588255, 2.3265479 , 2.65212391,\n",
       "       3.17829674, 2.24988   , 2.62271704, 2.3706582 , 2.75924891,\n",
       "       3.49547078, 3.10057859, 4.25059706, 2.03247925, 2.03668023,\n",
       "       6.25656534, 2.58070723, 1.68169736, 4.26530049, 2.686782  ,\n",
       "       4.37557624, 2.79915823, 2.44102463, 1.92850498, 4.55726865,\n",
       "       4.55936914, 3.3704916 , 5.68313148, 3.35368768, 5.17901379,\n",
       "       3.09322688, 3.11528203, 4.11931641, 2.8264646 , 3.34633597,\n",
       "       2.56810429, 3.0008053 , 3.90716689, 2.54604914, 2.66157611,\n",
       "       1.71425496, 2.00622312, 5.44787656, 2.28558834, 2.33915084,\n",
       "       2.88527833, 2.25828197, 2.28558834, 2.6426717 , 3.07642296,\n",
       "       2.65002341, 3.71287153, 4.98786917, 3.46921465, 2.26038246,\n",
       "       4.07730661, 3.63935437, 5.99610454, 2.31394496, 3.87881027,\n",
       "       2.27508589, 3.87670978, 2.13750377, 1.73315938, 4.08570857,\n",
       "       2.19736774, 2.32969864, 1.82137997, 2.5985614 , 2.32969864,\n",
       "       2.62901851, 1.97996699, 3.06802099, 2.3149952 , 3.24341194,\n",
       "       3.44190828, 2.56810429, 2.13960426, 2.05138367, 2.55130037,\n",
       "       1.9778665 , 2.24357853, 4.36822452, 4.68329807, 3.96913135,\n",
       "       3.774836  , 3.30117542, 2.79180651, 2.89263005])"
      ]
     },
     "execution_count": 4,
     "metadata": {},
     "output_type": "execute_result"
    }
   ],
   "source": [
    "predictions"
   ]
  },
  {
   "cell_type": "markdown",
   "id": "0a5e3e8f-9e7c-4f69-9b32-bcc95fa5506e",
   "metadata": {},
   "source": [
    "## 3\n",
    "\n",
    "Plot the residuals for the linear regression model that you made."
   ]
  },
  {
   "cell_type": "code",
   "execution_count": 5,
   "id": "00a0a9f8-839b-4586-acc9-7a52ce29d16c",
   "metadata": {},
   "outputs": [
    {
     "data": {
      "image/png": "[encoded data removed]",
      "text/plain": [
       "<Figure size 432x288 with 1 Axes>"
      ]
     },
     "metadata": {
      "needs_background": "light"
     },
     "output_type": "display_data"
    }
   ],
   "source": [
    "residuals = y - predictions\n",
    "plt.scatter(X, residuals)\n",
    "plt.axhline(0, ls = ':')\n",
    "plt.xlabel('Total Bill')\n",
    "plt.ylabel('Residual')\n",
    "plt.title('Residuals for yhat');"
   ]
  },
  {
   "cell_type": "markdown",
   "id": "abf88359-7cc1-4d5b-9852-31923615d9e9",
   "metadata": {},
   "source": [
    "## 4\n",
    "\n",
    "Calculate the sum of squared errors, explained sum of squares, total sum of squares, mean squared error, and root mean squared error for your model."
   ]
  },
  {
   "cell_type": "code",
   "execution_count": 6,
   "id": "86a95edd-363a-47f1-acd5-938aa539462b",
   "metadata": {},
   "outputs": [],
   "source": [
    "from sklearn.metrics import mean_squared_error"
   ]
  },
  {
   "cell_type": "code",
   "execution_count": 7,
   "id": "cc827420-b2e9-451a-a14f-3a05e87b1f4c",
   "metadata": {},
   "outputs": [
    {
     "data": {
      "text/plain": [
       "1.036019442011377"
      ]
     },
     "execution_count": 7,
     "metadata": {},
     "output_type": "execute_result"
    }
   ],
   "source": [
    "MSE = mean_squared_error(y, predictions)\n",
    "MSE"
   ]
  },
  {
   "cell_type": "code",
   "execution_count": 8,
   "id": "a2390cf2-6b55-47d1-ae1c-8131c3b4ccef",
   "metadata": {},
   "outputs": [
    {
     "data": {
      "text/plain": [
       "252.788743850776"
      ]
     },
     "execution_count": 8,
     "metadata": {},
     "output_type": "execute_result"
    }
   ],
   "source": [
    "SSE = MSE * len(tips)\n",
    "SSE"
   ]
  },
  {
   "cell_type": "code",
   "execution_count": 9,
   "id": "2205a547-725e-49ea-932d-4509be1d949c",
   "metadata": {},
   "outputs": [
    {
     "data": {
      "text/plain": [
       "1.0178504025697377"
      ]
     },
     "execution_count": 9,
     "metadata": {},
     "output_type": "execute_result"
    }
   ],
   "source": [
    "RMSE = mean_squared_error(y, predictions, squared = False)\n",
    "RMSE"
   ]
  },
  {
   "cell_type": "code",
   "execution_count": 10,
   "id": "926de710-4cc0-46e0-a6b4-43c107a32bfc",
   "metadata": {},
   "outputs": [
    {
     "data": {
      "text/plain": [
       "212.42373319840416"
      ]
     },
     "execution_count": 10,
     "metadata": {},
     "output_type": "execute_result"
    }
   ],
   "source": [
    "ESS = sum((predictions - y.mean()) ** 2)\n",
    "ESS"
   ]
  },
  {
   "cell_type": "code",
   "execution_count": 11,
   "id": "ab6fd973-391e-4237-96cb-092312c3f609",
   "metadata": {},
   "outputs": [
    {
     "data": {
      "text/plain": [
       "465.21247704918017"
      ]
     },
     "execution_count": 11,
     "metadata": {},
     "output_type": "execute_result"
    }
   ],
   "source": [
    "TSS = SSE + ESS\n",
    "TSS"
   ]
  },
  {
   "cell_type": "markdown",
   "id": "dc823f4c-23a6-4e1e-9f35-2b00c3bfe2b6",
   "metadata": {},
   "source": [
    "## 5\n",
    "\n",
    "Calculate the sum of squared errors, mean squared error, and root mean squared error for the baseline model (i.e. a model that always predicts the average tip amount)."
   ]
  },
  {
   "cell_type": "code",
   "execution_count": 12,
   "id": "30f17a2b-25e4-4f82-8872-59f859697779",
   "metadata": {},
   "outputs": [
    {
     "data": {
      "text/plain": [
       "2.9982786885245902"
      ]
     },
     "execution_count": 12,
     "metadata": {},
     "output_type": "execute_result"
    }
   ],
   "source": [
    "baseline = y.mean()\n",
    "baseline"
   ]
  },
  {
   "cell_type": "code",
   "execution_count": 13,
   "id": "0b15e094-c8e6-425b-b50e-682faa91ce51",
   "metadata": {},
   "outputs": [],
   "source": [
    "tips['baseline'] = baseline"
   ]
  },
  {
   "cell_type": "code",
   "execution_count": 14,
   "id": "489eddfc-9901-4861-b4be-7ac245709df8",
   "metadata": {},
   "outputs": [
    {
     "data": {
      "text/plain": [
       "1.906608512496641"
      ]
     },
     "execution_count": 14,
     "metadata": {},
     "output_type": "execute_result"
    }
   ],
   "source": [
    "MSE = mean_squared_error(y, tips['baseline'])\n",
    "MSE"
   ]
  },
  {
   "cell_type": "code",
   "execution_count": 15,
   "id": "609256da-9f7b-40c3-a38e-d3618ab840e3",
   "metadata": {},
   "outputs": [
    {
     "data": {
      "text/plain": [
       "465.2124770491804"
      ]
     },
     "execution_count": 15,
     "metadata": {},
     "output_type": "execute_result"
    }
   ],
   "source": [
    "SSE = MSE * len(tips)\n",
    "SSE"
   ]
  },
  {
   "cell_type": "code",
   "execution_count": 16,
   "id": "1c5e6e70-788a-4cc8-a331-32ab631b3f74",
   "metadata": {},
   "outputs": [
    {
     "data": {
      "text/plain": [
       "1.3807999538298954"
      ]
     },
     "execution_count": 16,
     "metadata": {},
     "output_type": "execute_result"
    }
   ],
   "source": [
    "RMSE = mean_squared_error(y, tips['baseline'], squared = False)\n",
    "RMSE"
   ]
  },
  {
   "cell_type": "markdown",
   "id": "172b7681-2e7f-4dab-8f83-1c448885eeac",
   "metadata": {},
   "source": [
    "## 6\n",
    "\n",
    "Write python code that compares the sum of squared errors for your model against the sum of squared errors for the baseline model and outputs whether or not your model performs better than the baseline model."
   ]
  },
  {
   "cell_type": "code",
   "execution_count": 17,
   "id": "02b386ce-2498-4202-a8e6-e4cb6932f0b0",
   "metadata": {},
   "outputs": [
    {
     "name": "stdout",
     "output_type": "stream",
     "text": [
      "The model performs better than the baseline.\n"
     ]
    }
   ],
   "source": [
    "MSE_baseline = mean_squared_error(y, tips['baseline'])\n",
    "SSE_baseline = MSE_baseline * len(tips)\n",
    "\n",
    "MSE_model = mean_squared_error(y, predictions)\n",
    "SSE_model = MSE_model * len(tips)\n",
    "\n",
    "if SSE_model < SSE_baseline:\n",
    "    print('The model performs better than the baseline.')\n",
    "else:\n",
    "    print('The model does not perform better than the baseline.')"
   ]
  },
  {
   "cell_type": "markdown",
   "id": "303ce25b-2d28-4049-99a0-ed4b56a7a192",
   "metadata": {},
   "source": [
    "## 7\n",
    "\n",
    "What is the amount of variance explained in your model?"
   ]
  },
  {
   "cell_type": "code",
   "execution_count": 18,
   "id": "9448ffee-455d-4322-b6f5-b8b2377c0d7f",
   "metadata": {},
   "outputs": [],
   "source": [
    "from sklearn.metrics import r2_score"
   ]
  },
  {
   "cell_type": "code",
   "execution_count": 19,
   "id": "f2607d15-c2d9-421d-91f7-4b110e603b1c",
   "metadata": {},
   "outputs": [
    {
     "data": {
      "text/plain": [
       "0.45661658635167657"
      ]
     },
     "execution_count": 19,
     "metadata": {},
     "output_type": "execute_result"
    }
   ],
   "source": [
    "r2_score(y, predictions)"
   ]
  },
  {
   "cell_type": "markdown",
   "id": "720d9cf3-74be-4294-a9c6-ceb1567fe05e",
   "metadata": {},
   "source": [
    "## 8\n",
    "\n",
    "Is your model better than the baseline model?"
   ]
  },
  {
   "cell_type": "code",
   "execution_count": 20,
   "id": "01437892-b1c3-4d1f-b883-475518e29e48",
   "metadata": {},
   "outputs": [
    {
     "name": "stdout",
     "output_type": "stream",
     "text": [
      "Our model is better than the baseline.\n"
     ]
    }
   ],
   "source": [
    "RMSE_model = mean_squared_error(y, predictions, squared = False)\n",
    "RMSE_baseline = mean_squared_error(y, tips['baseline'], squared = False)\n",
    "\n",
    "if RMSE_model < RMSE_baseline:\n",
    "    print('Our model is better than the baseline.')\n",
    "else:\n",
    "    print('Our model is not better than the baseline.')"
   ]
  },
  {
   "cell_type": "markdown",
   "id": "d3f7fda6-690f-4551-a567-eac3c1a127e7",
   "metadata": {},
   "source": [
    "## 9\n",
    "\n",
    "Create a file named evaluate.py that contains the following functions.\n",
    "\n",
    "- plot_residuals(y, yhat): creates a residual plot\n",
    "- regression_errors(y, yhat): returns the following values:\n",
    "    - sum of squared errors (SSE)\n",
    "    - explained sum of squares (ESS)\n",
    "    - total sum of squares (TSS)\n",
    "    - mean squared error (MSE)\n",
    "    - root mean squared error (RMSE)\n",
    "- baseline_mean_errors(y): computes the SSE, MSE, and RMSE for the baseline model\n",
    "- better_than_baseline(y, yhat): returns true if your model performs better than the baseline, otherwise false"
   ]
  },
  {
   "cell_type": "code",
   "execution_count": 21,
   "id": "cdb2af9e-a516-49b9-9a6a-2f54d730f3ab",
   "metadata": {},
   "outputs": [],
   "source": [
    "from evaluate import *"
   ]
  },
  {
   "cell_type": "code",
   "execution_count": 23,
   "id": "7518e4fe-0114-49cd-aed6-8bae509338e9",
   "metadata": {},
   "outputs": [
    {
     "data": {
      "image/png": "[encoded data removed]",
      "text/plain": [
       "<Figure size 432x288 with 1 Axes>"
      ]
     },
     "metadata": {
      "needs_background": "light"
     },
     "output_type": "display_data"
    }
   ],
   "source": [
    "plot_residuals(y, predictions)"
   ]
  },
  {
   "cell_type": "code",
   "execution_count": 24,
   "id": "9ea337d8-7c2e-49e3-a526-1dbdd22c39a2",
   "metadata": {},
   "outputs": [
    {
     "name": "stdout",
     "output_type": "stream",
     "text": [
      "\n",
      "            sum of squared errors (SSE):     252.788743850776\n",
      "            explained sum of squares (ESS):  212.42373319840416\n",
      "            total sum of squares (TSS):      465.21247704918017\n",
      "            mean squared error (MSE):        1.036019442011377\n",
      "            root mean squared error (RMSE):  1.0178504025697377\n",
      "        \n"
     ]
    }
   ],
   "source": [
    "regression_errors(y, predictions)"
   ]
  },
  {
   "cell_type": "code",
   "execution_count": 25,
   "id": "eee802ae-cc9d-4e44-aa0b-b52cce8996b7",
   "metadata": {},
   "outputs": [
    {
     "name": "stdout",
     "output_type": "stream",
     "text": [
      "\n",
      "            Baseline sum of squared errors (SSE):     465.2124770491804\n",
      "            Baseline mean squared error (MSE):        1.906608512496641\n",
      "            Baseline root mean squared error (RMSE):  1.3807999538298954\n",
      "        \n"
     ]
    }
   ],
   "source": [
    "baseline_mean_errors(y, tips['baseline'])"
   ]
  },
  {
   "cell_type": "code",
   "execution_count": 22,
   "id": "3e756be2-9e59-4185-8b80-c9a5103aaf58",
   "metadata": {},
   "outputs": [
    {
     "data": {
      "text/plain": [
       "True"
      ]
     },
     "execution_count": 22,
     "metadata": {},
     "output_type": "execute_result"
    }
   ],
   "source": [
    "better_than_baseline(y, predictions)"
   ]
  },
  {
   "cell_type": "markdown",
   "id": "ed9438bf-4d44-419e-8dd9-0d234d5f2c07",
   "metadata": {},
   "source": [
    "## 10\n",
    "\n",
    "Load the mpg dataset and fit a model that predicts highway mileage based on engine displacement. Take a look at all the regression evaluation metrics, and determine whether this model is better than the baseline model. Use the functions from your evaluate.py to help accomplish this."
   ]
  },
  {
   "cell_type": "code",
   "execution_count": 26,
   "id": "80494e2b-4d33-4c6b-a353-3f2077333b91",
   "metadata": {},
   "outputs": [
    {
     "name": "stdout",
     "output_type": "stream",
     "text": [
      "<class 'pandas.core.frame.DataFrame'>\n",
      "Int64Index: 234 entries, 1 to 234\n",
      "Data columns (total 11 columns):\n",
      " #   Column        Non-Null Count  Dtype  \n",
      "---  ------        --------------  -----  \n",
      " 0   manufacturer  234 non-null    object \n",
      " 1   model         234 non-null    object \n",
      " 2   displ         234 non-null    float64\n",
      " 3   year          234 non-null    int64  \n",
      " 4   cyl           234 non-null    int64  \n",
      " 5   trans         234 non-null    object \n",
      " 6   drv           234 non-null    object \n",
      " 7   cty           234 non-null    int64  \n",
      " 8   hwy           234 non-null    int64  \n",
      " 9   fl            234 non-null    object \n",
      " 10  class         234 non-null    object \n",
      "dtypes: float64(1), int64(4), object(6)\n",
      "memory usage: 21.9+ KB\n"
     ]
    }
   ],
   "source": [
    "mpg = data('mpg')\n",
    "mpg.info()"
   ]
  },
  {
   "cell_type": "code",
   "execution_count": 28,
   "id": "221fdc94-a1dc-4c6c-b605-02f8a106c46f",
   "metadata": {},
   "outputs": [],
   "source": [
    "X = mpg[['displ']]\n",
    "y = mpg['hwy']\n",
    "\n",
    "# assuming X and y are already defined\n",
    "model = LinearRegression().fit(X, y)\n",
    "predictions = model.predict(X)"
   ]
  },
  {
   "cell_type": "code",
   "execution_count": 29,
   "id": "22fe0ce7-7c45-42cd-b686-10bdfeac3e28",
   "metadata": {},
   "outputs": [],
   "source": [
    "mpg['baseline'] = mpg.hwy.mean()"
   ]
  },
  {
   "cell_type": "code",
   "execution_count": 30,
   "id": "1f7664b5-4574-4b55-aa94-2fdb8a9c424c",
   "metadata": {},
   "outputs": [
    {
     "data": {
      "image/png": "[encoded data removed]",
      "text/plain": [
       "<Figure size 432x288 with 1 Axes>"
      ]
     },
     "metadata": {
      "needs_background": "light"
     },
     "output_type": "display_data"
    }
   ],
   "source": [
    "plot_residuals(y, predictions)"
   ]
  },
  {
   "cell_type": "code",
   "execution_count": 31,
   "id": "4a78ee1b-aec3-4817-bace-1a9b61a36a41",
   "metadata": {},
   "outputs": [
    {
     "name": "stdout",
     "output_type": "stream",
     "text": [
      "\n",
      "            sum of squared errors (SSE):     3413.829008995467\n",
      "            explained sum of squares (ESS):  4847.833384166925\n",
      "            total sum of squares (TSS):      8261.66239316239\n",
      "            mean squared error (MSE):        14.589012858954987\n",
      "            root mean squared error (RMSE):  3.8195566312014524\n",
      "        \n"
     ]
    }
   ],
   "source": [
    "regression_errors(y, predictions)"
   ]
  },
  {
   "cell_type": "code",
   "execution_count": 32,
   "id": "7c59cd0a-1788-4f21-a112-0a480458c456",
   "metadata": {},
   "outputs": [
    {
     "name": "stdout",
     "output_type": "stream",
     "text": [
      "\n",
      "            Baseline sum of squared errors (SSE):     8261.66239316239\n",
      "            Baseline mean squared error (MSE):        35.30624954342902\n",
      "            Baseline root mean squared error (RMSE):  5.941906221359356\n",
      "        \n"
     ]
    }
   ],
   "source": [
    "baseline_mean_errors(y, mpg['baseline'])"
   ]
  },
  {
   "cell_type": "code",
   "execution_count": 33,
   "id": "24f7efee-7295-4175-87d4-f7e192d03161",
   "metadata": {},
   "outputs": [
    {
     "data": {
      "text/plain": [
       "True"
      ]
     },
     "execution_count": 33,
     "metadata": {},
     "output_type": "execute_result"
    }
   ],
   "source": [
    "better_than_baseline(y, predictions)"
   ]
  },
  {
   "cell_type": "markdown",
   "id": "18450877-f2d1-475c-8e9c-dc115e8c7e13",
   "metadata": {},
   "source": [
    "Our model performs better than the baseline."
   ]
  }
 ],
 "metadata": {
  "kernelspec": {
   "display_name": "Python 3 (ipykernel)",
   "language": "python",
   "name": "python3"
  },
  "language_info": {
   "codemirror_mode": {
    "name": "ipython",
    "version": 3
   },
   "file_extension": ".py",
   "mimetype": "text/x-python",
   "name": "python",
   "nbconvert_exporter": "python",
   "pygments_lexer": "ipython3",
   "version": "3.9.7"
  }
 },
 "nbformat": 4,
 "nbformat_minor": 5
}
